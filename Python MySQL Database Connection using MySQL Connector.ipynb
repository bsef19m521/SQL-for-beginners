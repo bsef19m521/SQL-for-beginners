version https://git-lfs.github.com/spec/v1
oid sha256:7f7aefbc66359b6d23ca1f4c83d2e226c4d73e5f657ca1aa63d732e5e96ae8d1
size 53143
