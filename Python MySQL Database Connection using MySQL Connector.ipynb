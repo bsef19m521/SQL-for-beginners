version https://git-lfs.github.com/spec/v1
oid sha256:1b5b82563a01c7d417340b97316e42f40722a859ddb8f5cf3a995ebb39b492eb
size 86988
