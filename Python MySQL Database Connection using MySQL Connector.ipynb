version https://git-lfs.github.com/spec/v1
oid sha256:bcbf86f05f3c50f7b9946834e7a76e2cde72b9b2382de72ea27a31d0f69278a0
size 78408
