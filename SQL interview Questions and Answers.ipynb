{
 "cells": [
  {
   "cell_type": "markdown",
   "id": "5fc4f1bb",
   "metadata": {},
   "source": [
    "## Learning Agenda of this Notebook:\n",
    "- Theoretical Questions of SQL Interview with Answers\n",
    "- Practical Questions of SQL Interview with Answers\n",
    "- Case Studies"
   ]
  },
  {
   "cell_type": "code",
   "execution_count": null,
   "id": "96f3520e",
   "metadata": {},
   "outputs": [],
   "source": []
  },
  {
   "cell_type": "code",
   "execution_count": null,
   "id": "0c0cd01d",
   "metadata": {},
   "outputs": [],
   "source": []
  },
  {
   "cell_type": "markdown",
   "id": "4fed35c5",
   "metadata": {},
   "source": [
    "# Practical Questions of SQL Interview with Answers\n"
   ]
  },
  {
   "cell_type": "markdown",
   "id": "f981c2cf",
   "metadata": {},
   "source": [
    "### Write a query to fetch all employees who also hold the managerial position.\n",
    "### Answer. \n",
    "```\n",
    "        SELECT E.EmpFname, E.EmpLname, P.EmpPosition FROM EmployeeInfo E \n",
    "        INNER JOIN EmployeePosition P ON E.EmpID = P.EmpID AND P.EmpPosition IN ('Manager');\n",
    "```"
   ]
  },
  {
   "cell_type": "code",
   "execution_count": null,
   "id": "bc469958",
   "metadata": {},
   "outputs": [],
   "source": []
  },
  {
   "cell_type": "code",
   "execution_count": null,
   "id": "04ea2a6d",
   "metadata": {},
   "outputs": [],
   "source": []
  }
 ],
 "metadata": {
  "kernelspec": {
   "display_name": "Python 3 (ipykernel)",
   "language": "python",
   "name": "python3"
  },
  "language_info": {
   "codemirror_mode": {
    "name": "ipython",
    "version": 3
   },
   "file_extension": ".py",
   "mimetype": "text/x-python",
   "name": "python",
   "nbconvert_exporter": "python",
   "pygments_lexer": "ipython3",
   "version": "3.8.10"
  }
 },
 "nbformat": 4,
 "nbformat_minor": 5
}
