{
 "cells": [
  {
   "cell_type": "markdown",
   "id": "67005de9",
   "metadata": {},
   "source": [
    "## Learning Agenda of this Notebook:\n",
    "- Theoretical Questions of SQL Interview with Answers\n",
    "- Practical Questions of SQL Interview with Answers\n",
    "- Case Studies"
   ]
  },
  {
   "cell_type": "code",
   "execution_count": null,
   "id": "10f5d90c",
   "metadata": {},
   "outputs": [],
   "source": []
  }
 ],
 "metadata": {
  "kernelspec": {
   "display_name": "Python 3 (ipykernel)",
   "language": "python",
   "name": "python3"
  },
  "language_info": {
   "codemirror_mode": {
    "name": "ipython",
    "version": 3
   },
   "file_extension": ".py",
   "mimetype": "text/x-python",
   "name": "python",
   "nbconvert_exporter": "python",
   "pygments_lexer": "ipython3",
   "version": "3.8.10"
  }
 },
 "nbformat": 4,
 "nbformat_minor": 5
}
