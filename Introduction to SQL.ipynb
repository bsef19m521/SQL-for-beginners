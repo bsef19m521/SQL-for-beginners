version https://git-lfs.github.com/spec/v1
oid sha256:e39442d6a5f25495fc3bbcbdda78d8871c7f98c3b6ab4881468fe9c39a5c7b8b
size 95843
