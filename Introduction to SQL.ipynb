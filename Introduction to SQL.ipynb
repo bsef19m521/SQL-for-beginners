{
 "cells": [
  {
   "cell_type": "markdown",
   "id": "e97f3f85",
   "metadata": {},
   "source": [
    "---   \n",
    "\n",
    "<h1 align=\"center\">Introduction to Data Analyst and Data Science for beginners</h1>\n",
    "<h1 align=\"center\">Introduction to DBMS and SQL for beginners</h1>\n",
    "\n",
    "---\n",
    "<h3><div align=\"right\">Ehtisham Sadiq</div></h3>    "
   ]
  },
  {
   "cell_type": "markdown",
   "id": "bdba0667",
   "metadata": {},
   "source": [
    "# Learning Agenda of this Notebook:\n",
    "- What is Data?\n",
    "- What is Database?\n",
    "- Famous types of Databases\n",
    "- What is RDBMS?\n",
    "- DBMS vs RDBMS?\n",
    "- What is SQL?\n",
    "- SQL vs MySQL\n",
    "- Why SQL?\n",
    "- Types of SQL Commands?\n",
    " >- DDL\n",
    " >- DML\n",
    " >- DCL\n",
    " >- TCL\n",
    " >- DQL\n",
    "- Difference between SQL AND NoSQL\n",
    "- Advantages and Dis-advantages of SQL\n",
    "- What is SQL Syntax?\n",
    "- Datatypes in SQL\n",
    "- SQL Operators\n",
    "- What is SQL Statement?\n",
    "- SQL Database Commands\n",
    " >- SQL CREATE Database\n",
    " >- SQL DROP Database\n",
    " >- SQL RENAME Database\n",
    " >- SQL SELECT Database\n",
    " \n",
    "- SQL Table Commands\n",
    " >- What is Table\n",
    " >- SQL CREATE TABLE\n",
    " >- SQL DROP TABLE\n",
    " >- SQL DELETE TABLE\n",
    " >- SQL RENAME TABLE\n",
    " >- SQL TRUNCATE TABLE\n",
    " >- SQL COPY TABLE\n",
    " >- SQL TEMP TABLE\n",
    " >- SQL ALTER TABLE\n",
    " \n",
    "- SQL SELECT Commands\n",
    " >- SELECT Statement\n",
    " >- SQL SELECT UNIQUE\n",
    " >- SQL SELECT DISTINCT\n",
    " >- SQL SELECT COUNT\n",
    " >- SQL SELECT TOP\n",
    " >- SQL SELECT FIRST\n",
    " >- SQL SELECT LAST\n",
    " >- SQL SELECT RANDOM\n",
    " >- SQL SELECT IN\n",
    " >- SQL SELECT Multiple\n",
    " >- SQL SELECT DATE\n",
    " >- SQL SELECT SUM\n",
    " >- SQL SELECT NULL\n",
    "\n",
    "- SQL Clause\n",
    ">- SQL WHERE\n",
    ">- SQL AND\n",
    ">- SQL OR\n",
    ">- SQL WITH\n",
    ">- SQL AS\n",
    ">- SQL HAVING Clause\n",
    "\n",
    "- SQL Order By\n",
    ">- ORDER BY Clause\n",
    ">- ORDER BY ASC\n",
    ">- ORDER BY DESC\n",
    ">- ORDER BY RANDOM\n",
    ">- ORDER BY LIMIT\n",
    ">- ORDER BY Multiple Cols\n",
    "\n",
    "- SQL Insert commands\n",
    ">- INSERT Statement\n",
    ">- INSERT INTO Values\n",
    ">- INSERT INTO SELECT\n",
    ">- INSERT Multiple Rows\n",
    "\n",
    "- SQL Update\n",
    ">- UPDATE Statement\n",
    ">- SQL UPDATE JOIN\n",
    ">- SQL UPDATE DATE\n",
    "\n",
    "- SQL Delete\n",
    ">- DELETE Statement\n",
    ">- SQL DELETE TABLE\n",
    ">- SQL DELETE ROW\n",
    ">- SQL DELETE All Rows\n",
    ">- DELETE Duplicate Rows\n",
    ">- SQL DELETE DATABASE\n",
    ">- SQL DELETE VIEW\n",
    ">- SQL DELETE JOIN\n",
    "\n",
    "- SQL Join commands\n",
    ">- SQL JOIN\n",
    ">- SQL Outer Join\n",
    ">- SQL Left Join\n",
    ">- SQL Right Join\n",
    ">- SQL Full Join\n",
    ">- SQL Cross Join\n",
    "\n",
    "- SQL Keys\n",
    ">- Primary Key\n",
    ">- Foreign Key\n",
    ">- Composite Key\n",
    ">- Unique Key\n",
    ">- Alternate Key\n",
    "\n",
    "- SQL Data Types\n",
    " >- String Data types\n",
    " >- Numeric Data types\n",
    " >- Date and time Data types\n",
    "- SQL Operators\n",
    " >- What is SQL Operator?\n",
    " >- What is the Precedence of SQL Operator?\n",
    " >- Types of Operator\n",
    "  - SQL Arithmetic Operators\n",
    "  >- SQL Comparison Operators\n",
    "  >- SQL Logical Operators\n",
    "  >- SQL Set Operators\n",
    "  >- SQL Bit-wise Operators\n",
    "  >- SQL Unary Operators\n",
    "  \n",
    "- Difference\n",
    ">- IN vs EXISTS\n",
    ">- Group By vs Order By\n",
    ">- WHERE vs HAVING\n",
    ">- Where condition in SQL\n",
    "\n",
    "- Interview Questions Answers\n",
    "- Case Studies\n",
    "- Python MySQL\n",
    " >- Environment Setup\n",
    " >- Database Connection\n",
    " >- Creating New Database\n",
    " >- Creating Tables\n",
    " >- Insert Operation\n",
    " >- Read Operation\n",
    " >- Update Operation\n",
    " >- Join Operation\n",
    " >- Performing Transactions\n"
   ]
  },
  {
   "cell_type": "markdown",
   "id": "4d7bc029",
   "metadata": {},
   "source": [
    "# What is Data?\n",
    "- Data is a collection of a distinct small unit of information. It can be used in a variety of forms like text, numbers, media, bytes, etc. it can be stored in pieces of paper or electronic memory, etc.\n",
    "- In computing, Data is information that can be translated into a form for efficient movement and processing. Data is interchangeable."
   ]
  },
  {
   "cell_type": "markdown",
   "id": "736aea14",
   "metadata": {},
   "source": [
    "# What is Database?\n",
    "- A database is an organized collection of data, so that it can be easily accessed and managed.\n",
    "- You can organize data into tables, rows, columns, and index it to make it easier to find relevant information.\n",
    "- Database handlers create a database in such a way that only one set of software program provides access of data to all the users.\n",
    "- The main purpose of the database is to operate a large amount of information by storing, retrieving, and managing data.\n",
    "- There are many dynamic websites on the World Wide Web nowadays which are handled through databases. For example, a model that checks the availability of rooms in a hotel. It is an example of a dynamic website that uses a database.\n",
    "- There are many databases available like MySQL, Sybase, Oracle, MongoDB, Informix, PostgreSQL, SQL Server, etc.\n",
    "- Modern databases are managed by the database management system (DBMS).\n",
    "- SQL or Structured Query Language is used to operate on the data stored in a database. SQL depends on relational algebra and tuple relational calculus."
   ]
  },
  {
   "cell_type": "markdown",
   "id": "86074f06",
   "metadata": {},
   "source": [
    "# Types of Databases:\n",
    "There are various types of databases used for storing different varieties of data.\n",
    "![](types-of-databases.png)"
   ]
  },
  {
   "cell_type": "markdown",
   "id": "f56586aa",
   "metadata": {},
   "source": [
    "### Centralized Database\n",
    "- It is the type of database that stores data at a centralized database system. It comforts the users to access the stored data from different locations through several applications. These applications contain the authentication process to let users access data securely. \n",
    "- An example of a Centralized database can be Central Library that carries a central database of each library in a college/university."
   ]
  },
  {
   "cell_type": "markdown",
   "id": "075a2e03",
   "metadata": {},
   "source": [
    "### Distributed Database\n",
    "- Unlike a centralized database system, in distributed systems, data is distributed among different database systems of an organization. These database systems are connected via communication links. Such links help the end-users to access the data easily. \n",
    "- Examples of the Distributed database are Apache Cassandra, HBase, Ignite, etc."
   ]
  },
  {
   "cell_type": "markdown",
   "id": "868651b5",
   "metadata": {},
   "source": [
    "### Relational Database\n",
    "- This database is based on the relational data model, which stores data in the form of rows(tuple) and columns(attributes), and together forms a table(relation). A relational database uses SQL for storing, manipulating, as well as maintaining the data. E.F. Codd invented the database in 1970. Each table in the database carries a key that makes the data unique from others. \n",
    "- Examples of Relational databases are MySQL, Microsoft SQL Server, Oracle, etc.\n",
    "<img src=\"images/relational theory.png\">"
   ]
  },
  {
   "cell_type": "markdown",
   "id": "32a9e44d",
   "metadata": {},
   "source": [
    "### NoSQL Database\n",
    "Non-SQL/Not Only SQL is a type of database that is used for storing a wide range of data sets. It is not a relational database as it stores data not only in tabular form but in several different ways. It came into existence when the demand for building modern applications increased. Thus, NoSQL presented a wide variety of database technologies in response to the demands. "
   ]
  },
  {
   "cell_type": "markdown",
   "id": "39c3c277",
   "metadata": {},
   "source": [
    "### Cloud Database\n",
    "A type of database where data is stored in a virtual environment and executes over the cloud computing platform. It provides users with various cloud computing services (SaaS, PaaS, IaaS, etc.) for accessing the database. There are numerous cloud platforms, but the best options are:\n",
    "\n",
    "- Amazon Web Services(AWS)\n",
    "- Microsoft Azure\n",
    "- Kamatera\n",
    "- PhonixNAP\n",
    "- ScienceSoft\n",
    "- Google Cloud SQL, etc."
   ]
  },
  {
   "cell_type": "markdown",
   "id": "789d759f",
   "metadata": {},
   "source": [
    "### Object-oriented Databases\n",
    "The type of database that uses the object-based data model approach for storing data in the database system. The data is represented and stored as objects which are similar to the objects used in the object-oriented programming language."
   ]
  },
  {
   "cell_type": "markdown",
   "id": "8b399931",
   "metadata": {},
   "source": [
    "### Hierarchical Databases\n",
    "- It is the type of database that stores data in the form of parent-children relationship nodes. Here, it organizes data in a tree-like structure.\n",
    "- Data get stored in the form of records that are connected via links. Each child record in the tree will contain only one parent. On the other hand, each parent record can have multiple child records.\n",
    "<img src=\"images/types-of-databases4.png\">"
   ]
  },
  {
   "cell_type": "markdown",
   "id": "54c7af00",
   "metadata": {},
   "source": [
    "### Personal Database\n",
    "Collecting and storing data on the user's system defines a Personal Database. This database is basically designed for a single user."
   ]
  },
  {
   "cell_type": "markdown",
   "id": "3f85c962",
   "metadata": {},
   "source": [
    "# What is RDBMS (Relational Database Management System)\n",
    "- `RDBMS` stands for Relational Database Management System.\n",
    "- All modern database management systems like SQL, MS SQL Server, IBM DB2, ORACLE, My-SQL, and Microsoft Access are based on RDBMS.\n",
    "- It is called Relational Database Management System (RDBMS) because it is based on the relational model introduced by E.F. Codd.\n",
    "\n",
    "### How it works\n",
    "- Data is represented in terms of tuples (rows) in RDBMS.\n",
    "- A relational database is the most commonly used database. It contains several tables, and each table has its primary key.\n",
    "- Due to a collection of an organized set of tables, data can be accessed easily in RDBMS.\n",
    "<img src=\"images/what-is-rdbms.png\">"
   ]
  },
  {
   "cell_type": "markdown",
   "id": "62a44c6d",
   "metadata": {},
   "source": [
    "# Difference between DBMS and RDBMS\n",
    "### DBMS:\n",
    "- DBMS applications store data as file.\n",
    "- In DBMS, data is generally stored in either a hierarchical form or a navigational form.\n",
    "- DBMS uses file system to store data, so there will be no relation between the tables.\n",
    "- DBMS has to provide some uniform methods to access the stored information.\n",
    "- DBMS does not support distributed database.\n",
    "- DBMS is meant to be for small organization and deal with small data. it supports single user.\n",
    "- Examples of DBMS are file systems, xml etc.\n",
    "\n",
    "### RDBMS:\n",
    "- RDBMS applications store data in a tabular form.\n",
    "- In RDBMS, the tables have an identifier called primary key and the data values are stored in the form of tables.\n",
    "- In RDBMS, data values are stored in the form of tables, so a relationship between these data values will be stored in the form of a table as well.\n",
    "- RDBMS system supports a tabular structure of the data and a relationship between them to access the stored information.\n",
    "- RDBMS supports distributed database.\n",
    "- RDBMS is designed to handle large amount of data. it supports multiple users.\n",
    "- Example of RDBMS are mysql, postgre, sql server, oracle etc."
   ]
  },
  {
   "cell_type": "markdown",
   "id": "bcd395b6",
   "metadata": {},
   "source": [
    "# What is SQL?\n",
    "- SQL is a short-form of the structured query language.\n",
    "- This database language is mainly designed for maintaining the data in relational database management systems. It is a special tool used by data professionals for handling structured data (data which is stored in the form of tables). It is also designed for stream processing in RDSMS.\n",
    "- You can easily create and manipulate the database, access and modify the table rows and columns, etc. "
   ]
  },
  {
   "cell_type": "markdown",
   "id": "89fbae4e",
   "metadata": {},
   "source": [
    "# SQL vs MySQL\n",
    "<img src=\"images/Difference-Between-SQL-and-MySQL-Comparison-Summary.jpg\" height=600px width=600px>"
   ]
  },
  {
   "cell_type": "markdown",
   "id": "0bc8f4e5",
   "metadata": {},
   "source": [
    "# Why SQL?\n",
    "Nowadays, SQL is widely used in data science and analytics. Following are the reasons which explain why it is widely used:\n",
    "\n",
    "- The basic use of SQL for data professionals and SQL users is to insert, update, and delete the data from the relational database.\n",
    "- SQL allows the data professionals and users to retrieve the data from the relational database management systems.\n",
    "- It also helps them to describe the structured data.\n",
    "- It allows SQL users to create, drop, and manipulate the database and its tables.\n",
    "- It also helps in creating the view, stored procedure, and functions in the relational database.\n",
    "- It allows you to define the data and modify that stored data in the relational database.\n",
    "- It also allows SQL users to set the permissions or constraints on table columns, views, and stored procedures."
   ]
  },
  {
   "cell_type": "markdown",
   "id": "55349a17",
   "metadata": {},
   "source": [
    "# Types of SQL Commands\n",
    "- SQL commands are instructions. It is used to communicate with the database. It is also used to perform specific tasks, functions, and queries of data.\n",
    "- SQL can perform various tasks like create a table, add data to tables, drop the table, modify the table, set permission for users.\n",
    "### Types of SQL Commands\n",
    "- There are five types of SQL commands: DDL, DML, DCL, TCL, and DQL.\n",
    "<img src=\" images/dbms-sql-command.png\">\n",
    "\n",
    "### Data Definition Language (DDL)\n",
    "- DDL changes the structure of the table like creating a table, deleting a table, altering a table, etc.\n",
    "- All the command of DDL are auto-committed that means it permanently save all the changes in the database.\n",
    "Here are some commands that come under DDL:\n",
    " >- CREATE(t is used to create a new table in the database.)\n",
    " >- ALTER (It is used to delete both the structure and record stored in the table.)\n",
    " >- DROP (It is used to alter the structure of the database. This change could be either to modify the characteristics of an existing attribute or probably to add a new attribute.)\n",
    " >- TRUNCATE ( It is used to delete all the rows from the table and free the space containing the table.)\n",
    " \n",
    " \n",
    "### Data Manipulation Language\n",
    "- DML commands are used to modify the database. It is responsible for all form of changes in the database.\n",
    "- The command of DML is not auto-committed that means it can't permanently save all the changes in the database. They can be rollback.\n",
    "Here are some commands that come under DML:\n",
    "\n",
    " >- INSERT(The INSERT statement is a SQL query. It is used to insert data into the row of a table.)\n",
    " >- UPDATE(This command is used to update or modify the value of a column in the table.)\n",
    " >- DELETE(It is used to remove one or more row from a table.)\n",
    " \n",
    " \n",
    "### Data Control Language\n",
    "- DCL commands are used to grant and take back authority from any database user.\n",
    "Here are some commands that come under DCL:\n",
    " >- grant(It is used to give user access privileges to a database)\n",
    " >- Revoke(It is used to take back permissions from the user.)\n",
    "\n",
    "\n",
    "### Transaction Control Language\n",
    "- TCL commands can only use with DML commands like INSERT, DELETE and UPDATE only.\n",
    "- These operations are automatically committed in the database that's why they cannot be used while creating tables or dropping them.\n",
    "Here are some commands that come under TCL:\n",
    " >- COMMIT(Commit command is used to save all the transactions to the database.)\n",
    " >- ROLLBACK(Rollback command is used to undo transactions that have not already been saved to the database.)\n",
    " >- SAVEPOINT(It is used to roll the transaction back to a certain point without rolling back the entire transaction.)\n",
    " \n",
    "### Data Query Language\n",
    "- DQL is used to fetch the data from the database.\n",
    "It uses only one command:\n",
    " >- SELECT(This is the same as the projection operation of relational algebra. It is used to select the attribute based on the condition described by WHERE clause.)"
   ]
  },
  {
   "cell_type": "markdown",
   "id": "3670e1bd",
   "metadata": {},
   "source": [
    "# SQL vs NoSQL\n",
    "- Databases are categorized as Relational Database Management System (RDBMS) while NoSQL databases are categorized as Non-relational or distributed database system.\n",
    "- SQL databases have fixed or static or predefined schema while NoSQL databases have dynamic schema.\n",
    "- SQL databases display data in form of tables so it is known as table-based database while NoSQL databases display data as collection of key-value pair, documents, graph databases or wide-column stores.\n",
    "- SQL databases are vertically scalable while NoSQL databases are horizontally scalable.\n",
    "- SQL databases are not best suited for hierarchical data storage while NoSQL databases are best suited for hierarchical data storage.\n",
    "- MySQL, Oracle, Sqlite, PostgreSQL and MS-SQL etc. are the example of SQL database while MongoDB, BigTable, Redis, RavenDB, Cassandra, Hbase, Neo4j, CouchDB etc. are the example of nosql database\n",
    "<img src=\"images/nosql_vs_sql-1024x724.jpeg\" height=600px width=600px >"
   ]
  },
  {
   "cell_type": "markdown",
   "id": "8afe287b",
   "metadata": {},
   "source": [
    "# Advantages and Disadvantages of SQL\n",
    "### Advantages:\n",
    "- No programming needed\n",
    "- High Speed Query Processing\n",
    "- Standardized Language\n",
    "- Portability\n",
    "- Interactive language\n",
    "- More than one Data View\n",
    "\n",
    "### Disadvantages\n",
    "- Cost\n",
    "- Interface is Complex\n",
    "- Partial Database control"
   ]
  },
  {
   "cell_type": "code",
   "execution_count": null,
   "id": "bb440605",
   "metadata": {},
   "outputs": [],
   "source": []
  },
  {
   "cell_type": "code",
   "execution_count": 12,
   "id": "088d71a1",
   "metadata": {
    "scrolled": true
   },
   "outputs": [
    {
     "name": "stdout",
     "output_type": "stream",
     "text": [
      " dbms-sql-command.png\r\n",
      " Difference-Between-SQL-and-MySQL-Comparison-Summary.jpg\r\n",
      "'Introduction to SQL.ipynb'\r\n",
      " README.md\r\n",
      "'relational theory.png'\r\n",
      "'SQL interview Questions and Answers.ipynb'\r\n",
      " types-of-databases4.png\r\n",
      " types-of-databases.png\r\n",
      " what-is-rdbms.png\r\n",
      " world-university-rankings-202223\r\n"
     ]
    }
   ],
   "source": [
    "!ls"
   ]
  },
  {
   "cell_type": "code",
   "execution_count": null,
   "id": "3fcda735",
   "metadata": {},
   "outputs": [],
   "source": []
  },
  {
   "cell_type": "code",
   "execution_count": 5,
   "id": "d280be7e",
   "metadata": {},
   "outputs": [
    {
     "name": "stdout",
     "output_type": "stream",
     "text": [
      "1 record inserted!\n"
     ]
    }
   ],
   "source": [
    "import mysql.connector\n",
    "\n",
    "mydb = mysql.connector.connect(\n",
    "  host=\"localhost\",\n",
    "  user=\"root\",\n",
    "  password=\"Pucit12345#\",\n",
    "  database=\"ehtisham\",\n",
    "  auth_plugin='mysql_native_password'\n",
    ")\n",
    "cur = mydb.cursor()  \n",
    "sql = \"insert into STUDENTS(ID, NAME, AGE, ADDRESS) values (%s, %s, %s, %s)\"  \n",
    "  \n",
    "#The row values are provided in the form of tuple   \n",
    "val = (110,'Ahmed', 20 , \"Lahore\")  \n",
    "  \n",
    "try:  \n",
    "    cur.execute(sql,val)  \n",
    "    mydb.commit()\n",
    "except:  \n",
    "    mydb.rollback()  \n",
    "print(cur.rowcount,\"record inserted!\")  \n",
    "mydb.close()   "
   ]
  },
  {
   "cell_type": "code",
   "execution_count": 8,
   "id": "604ec4d9",
   "metadata": {},
   "outputs": [
    {
     "name": "stdout",
     "output_type": "stream",
     "text": [
      "(110, 'Ahmed', 20, 'Lahore')\n",
      "(501, 'Aleema ', 21, 'Lahore')\n",
      "(502, 'Azka', 21, 'Rawalpandi')\n",
      "(521, 'Ehtisham', 21, 'Okara')\n"
     ]
    }
   ],
   "source": [
    "import mysql.connector\n",
    "\n",
    "mydb = mysql.connector.connect(\n",
    "  host=\"localhost\",\n",
    "  user=\"root\",\n",
    "  password=\"Pucit12345#\",\n",
    "  database=\"ehtisham\",\n",
    "  auth_plugin='mysql_native_password'\n",
    ")\n",
    "cur = mydb.cursor()  \n",
    "try:  \n",
    "    #Reading the Employee data      \n",
    "    cur.execute(\"select * from STUDENTS\")  \n",
    "  \n",
    "    #fetching the rows from the cursor object  \n",
    "    result = cur.fetchall()  \n",
    "    #printing the result  \n",
    "      \n",
    "    for x in result:  \n",
    "        print(x);  \n",
    "except:  \n",
    "    mydb.rollback()  \n",
    "mydb.close()  "
   ]
  },
  {
   "cell_type": "code",
   "execution_count": null,
   "id": "41171607",
   "metadata": {},
   "outputs": [],
   "source": []
  }
 ],
 "metadata": {
  "kernelspec": {
   "display_name": "Python 3 (ipykernel)",
   "language": "python",
   "name": "python3"
  },
  "language_info": {
   "codemirror_mode": {
    "name": "ipython",
    "version": 3
   },
   "file_extension": ".py",
   "mimetype": "text/x-python",
   "name": "python",
   "nbconvert_exporter": "python",
   "pygments_lexer": "ipython3",
   "version": "3.8.10"
  }
 },
 "nbformat": 4,
 "nbformat_minor": 5
}
