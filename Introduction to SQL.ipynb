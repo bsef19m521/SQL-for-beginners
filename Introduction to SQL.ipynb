{
 "cells": [
  {
   "cell_type": "markdown",
   "id": "bdba0667",
   "metadata": {},
   "source": [
    "# Learning Agenda of this Notebook:\n",
    "- What is Data?\n",
    "- What is Database?\n",
    "- Famous types of Databases\n",
    "- What is RDBMS?\n",
    "- DBMS vs RDBMS?\n",
    "- What is SQL?\n",
    "- SQL vs MySQL\n",
    "- Why SQL?\n",
    "- Process of SQL?\n",
    "- Types of SQL Commands?\n",
    " >- DDL\n",
    " >- DML\n",
    " >- DCL\n",
    " >- TCL\n",
    " >- DQL\n",
    "- Difference between SQL AND NoSQL\n",
    "- Advantages and Dis-advantages of SQL\n",
    "- What is SQL Syntax?\n",
    "- Datatypes in SQL\n",
    "- SQL Operators\n",
    "- What is SQL Statement?\n",
    "- SQL Database Commands\n",
    " >- SQL CREATE Database\n",
    " >- SQL DROP Database\n",
    " >- SQL RENAME Database\n",
    " >- SQL SELECT Database\n",
    " \n",
    "- SQL Table Commands\n",
    "-> What is Table\n",
    "-> SQL CREATE TABLE\n",
    "-> SQL DROP TABLE\n",
    "-> SQL DELETE TABLE\n",
    "-> SQL RENAME TABLE\n",
    "-> SQL TRUNCATE TABLE\n",
    "-> SQL COPY TABLE\n",
    "-> SQL TEMP TABLE\n",
    "-> SQL ALTER TABLE\n",
    " >- Select Statement\n",
    " >- Update Statement\n",
    " >- Delete Statement\n",
    " >- Create Table Statement\n",
    " >- Alter Table Statement\n",
    " >- Drop Table Statement\n",
    " >- Create Database Statement\n",
    " >- Drop Database Statement\n",
    " >- Insert Into Statement\n",
    " >- Truncate Table Statement\n",
    " >- Describe Statement\n",
    " >- Distinct Clause\n",
    " >- Commit Statement\n",
    " >- Rollback Statement\n",
    " >- Create Index Statement\n",
    " >- Drop Index Statement\n",
    " >- Use Statement\n",
    "- SQL Data Types\n",
    " >- String Data types\n",
    " >- Numeric Data types\n",
    " >- Date and time Data types\n",
    "- SQL Operators\n",
    " >- What is SQL Operator?\n",
    " >- What is the Precedence of SQL Operator?\n",
    " >- Types of Operator\n",
    "  - SQL Arithmetic Operators\n",
    "  >- SQL Comparison Operators\n",
    "  >- SQL Logical Operators\n",
    "  >- SQL Set Operators\n",
    "  >- SQL Bit-wise Operators\n",
    "  >- SQL Unary Operators"
   ]
  },
  {
   "cell_type": "code",
   "execution_count": null,
   "id": "1f082839",
   "metadata": {},
   "outputs": [],
   "source": []
  },
  {
   "cell_type": "code",
   "execution_count": null,
   "id": "0fd4160a",
   "metadata": {},
   "outputs": [],
   "source": []
  },
  {
   "cell_type": "code",
   "execution_count": null,
   "id": "7895225a",
   "metadata": {},
   "outputs": [],
   "source": []
  },
  {
   "cell_type": "code",
   "execution_count": null,
   "id": "987d7ab4",
   "metadata": {},
   "outputs": [],
   "source": []
  },
  {
   "cell_type": "code",
   "execution_count": null,
   "id": "09826af7",
   "metadata": {},
   "outputs": [],
   "source": []
  },
  {
   "cell_type": "code",
   "execution_count": null,
   "id": "4e24bf3c",
   "metadata": {},
   "outputs": [],
   "source": []
  },
  {
   "cell_type": "code",
   "execution_count": null,
   "id": "4a725a2d",
   "metadata": {},
   "outputs": [],
   "source": []
  },
  {
   "cell_type": "code",
   "execution_count": null,
   "id": "fc95a0ab",
   "metadata": {},
   "outputs": [],
   "source": []
  },
  {
   "cell_type": "code",
   "execution_count": null,
   "id": "ec570bb2",
   "metadata": {},
   "outputs": [],
   "source": []
  },
  {
   "cell_type": "code",
   "execution_count": null,
   "id": "78f94164",
   "metadata": {},
   "outputs": [],
   "source": []
  },
  {
   "cell_type": "code",
   "execution_count": null,
   "id": "1f933b9a",
   "metadata": {},
   "outputs": [],
   "source": []
  },
  {
   "cell_type": "code",
   "execution_count": null,
   "id": "ae630238",
   "metadata": {},
   "outputs": [],
   "source": []
  },
  {
   "cell_type": "code",
   "execution_count": null,
   "id": "1d6fadba",
   "metadata": {},
   "outputs": [],
   "source": []
  },
  {
   "cell_type": "code",
   "execution_count": null,
   "id": "dbb0631f",
   "metadata": {},
   "outputs": [],
   "source": []
  },
  {
   "cell_type": "code",
   "execution_count": null,
   "id": "79c09f7e",
   "metadata": {},
   "outputs": [],
   "source": []
  },
  {
   "cell_type": "code",
   "execution_count": null,
   "id": "088d71a1",
   "metadata": {},
   "outputs": [],
   "source": []
  },
  {
   "cell_type": "code",
   "execution_count": null,
   "id": "731ba42e",
   "metadata": {},
   "outputs": [],
   "source": []
  },
  {
   "cell_type": "code",
   "execution_count": 6,
   "id": "a1a27a50",
   "metadata": {},
   "outputs": [
    {
     "ename": "NotSupportedError",
     "evalue": "Authentication plugin 'caching_sha2_password' is not supported",
     "output_type": "error",
     "traceback": [
      "\u001b[0;31m---------------------------------------------------------------------------\u001b[0m",
      "\u001b[0;31mNotSupportedError\u001b[0m                         Traceback (most recent call last)",
      "Input \u001b[0;32mIn [6]\u001b[0m, in \u001b[0;36m<cell line: 4>\u001b[0;34m()\u001b[0m\n\u001b[1;32m      1\u001b[0m \u001b[38;5;28;01mimport\u001b[39;00m \u001b[38;5;21;01mmysql\u001b[39;00m\u001b[38;5;21;01m.\u001b[39;00m\u001b[38;5;21;01mconnector\u001b[39;00m  \n\u001b[1;32m      3\u001b[0m \u001b[38;5;66;03m#Create the connection object   \u001b[39;00m\n\u001b[0;32m----> 4\u001b[0m myconn \u001b[38;5;241m=\u001b[39m \u001b[43mmysql\u001b[49m\u001b[38;5;241;43m.\u001b[39;49m\u001b[43mconnector\u001b[49m\u001b[38;5;241;43m.\u001b[39;49m\u001b[43mconnect\u001b[49m\u001b[43m(\u001b[49m\u001b[43mhost\u001b[49m\u001b[43m \u001b[49m\u001b[38;5;241;43m=\u001b[39;49m\u001b[43m \u001b[49m\u001b[38;5;124;43m\"\u001b[39;49m\u001b[38;5;124;43mlocalhost\u001b[39;49m\u001b[38;5;124;43m\"\u001b[39;49m\u001b[43m,\u001b[49m\u001b[43m \u001b[49m\u001b[43muser\u001b[49m\u001b[43m \u001b[49m\u001b[38;5;241;43m=\u001b[39;49m\u001b[43m \u001b[49m\u001b[38;5;124;43m\"\u001b[39;49m\u001b[38;5;124;43mroot\u001b[39;49m\u001b[38;5;124;43m\"\u001b[39;49m\u001b[43m,\u001b[49m\u001b[43mpasswd\u001b[49m\u001b[43m \u001b[49m\u001b[38;5;241;43m=\u001b[39;49m\u001b[43m \u001b[49m\u001b[38;5;124;43m\"\u001b[39;49m\u001b[38;5;124;43mPucit12345#\u001b[39;49m\u001b[38;5;124;43m\"\u001b[39;49m\u001b[43m,\u001b[49m\u001b[43m \u001b[49m\u001b[43mdatabase\u001b[49m\u001b[43m \u001b[49m\u001b[38;5;241;43m=\u001b[39;49m\u001b[43m \u001b[49m\u001b[38;5;124;43m\"\u001b[39;49m\u001b[38;5;124;43mhousing_csv\u001b[39;49m\u001b[38;5;124;43m\"\u001b[39;49m\u001b[43m)\u001b[49m  \n\u001b[1;32m      6\u001b[0m \u001b[38;5;66;03m#printing the connection object   \u001b[39;00m\n\u001b[1;32m      7\u001b[0m \u001b[38;5;28mprint\u001b[39m(myconn)\n",
      "File \u001b[0;32m~/.local/lib/python3.8/site-packages/mysql/connector/__init__.py:179\u001b[0m, in \u001b[0;36mconnect\u001b[0;34m(*args, **kwargs)\u001b[0m\n\u001b[1;32m    177\u001b[0m     \u001b[38;5;28;01mreturn\u001b[39;00m CMySQLConnection(\u001b[38;5;241m*\u001b[39margs, \u001b[38;5;241m*\u001b[39m\u001b[38;5;241m*\u001b[39mkwargs)\n\u001b[1;32m    178\u001b[0m \u001b[38;5;28;01melse\u001b[39;00m:\n\u001b[0;32m--> 179\u001b[0m     \u001b[38;5;28;01mreturn\u001b[39;00m \u001b[43mMySQLConnection\u001b[49m\u001b[43m(\u001b[49m\u001b[38;5;241;43m*\u001b[39;49m\u001b[43margs\u001b[49m\u001b[43m,\u001b[49m\u001b[43m \u001b[49m\u001b[38;5;241;43m*\u001b[39;49m\u001b[38;5;241;43m*\u001b[39;49m\u001b[43mkwargs\u001b[49m\u001b[43m)\u001b[49m\n",
      "File \u001b[0;32m~/.local/lib/python3.8/site-packages/mysql/connector/connection.py:95\u001b[0m, in \u001b[0;36mMySQLConnection.__init__\u001b[0;34m(self, *args, **kwargs)\u001b[0m\n\u001b[1;32m     92\u001b[0m \u001b[38;5;28mself\u001b[39m\u001b[38;5;241m.\u001b[39m_pool_config_version \u001b[38;5;241m=\u001b[39m \u001b[38;5;28;01mNone\u001b[39;00m\n\u001b[1;32m     94\u001b[0m \u001b[38;5;28;01mif\u001b[39;00m \u001b[38;5;28mlen\u001b[39m(kwargs) \u001b[38;5;241m>\u001b[39m \u001b[38;5;241m0\u001b[39m:\n\u001b[0;32m---> 95\u001b[0m     \u001b[38;5;28;43mself\u001b[39;49m\u001b[38;5;241;43m.\u001b[39;49m\u001b[43mconnect\u001b[49m\u001b[43m(\u001b[49m\u001b[38;5;241;43m*\u001b[39;49m\u001b[38;5;241;43m*\u001b[39;49m\u001b[43mkwargs\u001b[49m\u001b[43m)\u001b[49m\n",
      "File \u001b[0;32m~/.local/lib/python3.8/site-packages/mysql/connector/abstracts.py:716\u001b[0m, in \u001b[0;36mMySQLConnectionAbstract.connect\u001b[0;34m(self, **kwargs)\u001b[0m\n\u001b[1;32m    713\u001b[0m     \u001b[38;5;28mself\u001b[39m\u001b[38;5;241m.\u001b[39mconfig(\u001b[38;5;241m*\u001b[39m\u001b[38;5;241m*\u001b[39mkwargs)\n\u001b[1;32m    715\u001b[0m \u001b[38;5;28mself\u001b[39m\u001b[38;5;241m.\u001b[39mdisconnect()\n\u001b[0;32m--> 716\u001b[0m \u001b[38;5;28;43mself\u001b[39;49m\u001b[38;5;241;43m.\u001b[39;49m\u001b[43m_open_connection\u001b[49m\u001b[43m(\u001b[49m\u001b[43m)\u001b[49m\n\u001b[1;32m    717\u001b[0m \u001b[38;5;28mself\u001b[39m\u001b[38;5;241m.\u001b[39m_post_connection()\n",
      "File \u001b[0;32m~/.local/lib/python3.8/site-packages/mysql/connector/connection.py:208\u001b[0m, in \u001b[0;36mMySQLConnection._open_connection\u001b[0;34m(self)\u001b[0m\n\u001b[1;32m    206\u001b[0m \u001b[38;5;28mself\u001b[39m\u001b[38;5;241m.\u001b[39m_socket\u001b[38;5;241m.\u001b[39mopen_connection()\n\u001b[1;32m    207\u001b[0m \u001b[38;5;28mself\u001b[39m\u001b[38;5;241m.\u001b[39m_do_handshake()\n\u001b[0;32m--> 208\u001b[0m \u001b[38;5;28;43mself\u001b[39;49m\u001b[38;5;241;43m.\u001b[39;49m\u001b[43m_do_auth\u001b[49m\u001b[43m(\u001b[49m\u001b[38;5;28;43mself\u001b[39;49m\u001b[38;5;241;43m.\u001b[39;49m\u001b[43m_user\u001b[49m\u001b[43m,\u001b[49m\u001b[43m \u001b[49m\u001b[38;5;28;43mself\u001b[39;49m\u001b[38;5;241;43m.\u001b[39;49m\u001b[43m_password\u001b[49m\u001b[43m,\u001b[49m\n\u001b[1;32m    209\u001b[0m \u001b[43m              \u001b[49m\u001b[38;5;28;43mself\u001b[39;49m\u001b[38;5;241;43m.\u001b[39;49m\u001b[43m_database\u001b[49m\u001b[43m,\u001b[49m\u001b[43m \u001b[49m\u001b[38;5;28;43mself\u001b[39;49m\u001b[38;5;241;43m.\u001b[39;49m\u001b[43m_client_flags\u001b[49m\u001b[43m,\u001b[49m\u001b[43m \u001b[49m\u001b[38;5;28;43mself\u001b[39;49m\u001b[38;5;241;43m.\u001b[39;49m\u001b[43m_charset_id\u001b[49m\u001b[43m,\u001b[49m\n\u001b[1;32m    210\u001b[0m \u001b[43m              \u001b[49m\u001b[38;5;28;43mself\u001b[39;49m\u001b[38;5;241;43m.\u001b[39;49m\u001b[43m_ssl\u001b[49m\u001b[43m)\u001b[49m\n\u001b[1;32m    211\u001b[0m \u001b[38;5;28mself\u001b[39m\u001b[38;5;241m.\u001b[39mset_converter_class(\u001b[38;5;28mself\u001b[39m\u001b[38;5;241m.\u001b[39m_converter_class)\n\u001b[1;32m    212\u001b[0m \u001b[38;5;28;01mif\u001b[39;00m \u001b[38;5;28mself\u001b[39m\u001b[38;5;241m.\u001b[39m_client_flags \u001b[38;5;241m&\u001b[39m ClientFlag\u001b[38;5;241m.\u001b[39mCOMPRESS:\n",
      "File \u001b[0;32m~/.local/lib/python3.8/site-packages/mysql/connector/connection.py:137\u001b[0m, in \u001b[0;36mMySQLConnection._do_auth\u001b[0;34m(self, username, password, database, client_flags, charset, ssl_options)\u001b[0m\n\u001b[1;32m    134\u001b[0m     \u001b[38;5;28mself\u001b[39m\u001b[38;5;241m.\u001b[39m_socket\u001b[38;5;241m.\u001b[39mswitch_to_ssl(\u001b[38;5;241m*\u001b[39m\u001b[38;5;241m*\u001b[39mssl_options)\n\u001b[1;32m    135\u001b[0m     \u001b[38;5;28mself\u001b[39m\u001b[38;5;241m.\u001b[39m_ssl_active \u001b[38;5;241m=\u001b[39m \u001b[38;5;28;01mTrue\u001b[39;00m\n\u001b[0;32m--> 137\u001b[0m packet \u001b[38;5;241m=\u001b[39m \u001b[38;5;28;43mself\u001b[39;49m\u001b[38;5;241;43m.\u001b[39;49m\u001b[43m_protocol\u001b[49m\u001b[38;5;241;43m.\u001b[39;49m\u001b[43mmake_auth\u001b[49m\u001b[43m(\u001b[49m\n\u001b[1;32m    138\u001b[0m \u001b[43m    \u001b[49m\u001b[43mhandshake\u001b[49m\u001b[38;5;241;43m=\u001b[39;49m\u001b[38;5;28;43mself\u001b[39;49m\u001b[38;5;241;43m.\u001b[39;49m\u001b[43m_handshake\u001b[49m\u001b[43m,\u001b[49m\n\u001b[1;32m    139\u001b[0m \u001b[43m    \u001b[49m\u001b[43musername\u001b[49m\u001b[38;5;241;43m=\u001b[39;49m\u001b[43musername\u001b[49m\u001b[43m,\u001b[49m\u001b[43m \u001b[49m\u001b[43mpassword\u001b[49m\u001b[38;5;241;43m=\u001b[39;49m\u001b[43mpassword\u001b[49m\u001b[43m,\u001b[49m\u001b[43m \u001b[49m\u001b[43mdatabase\u001b[49m\u001b[38;5;241;43m=\u001b[39;49m\u001b[43mdatabase\u001b[49m\u001b[43m,\u001b[49m\n\u001b[1;32m    140\u001b[0m \u001b[43m    \u001b[49m\u001b[43mcharset\u001b[49m\u001b[38;5;241;43m=\u001b[39;49m\u001b[43mcharset\u001b[49m\u001b[43m,\u001b[49m\u001b[43m \u001b[49m\u001b[43mclient_flags\u001b[49m\u001b[38;5;241;43m=\u001b[39;49m\u001b[43mclient_flags\u001b[49m\u001b[43m,\u001b[49m\n\u001b[1;32m    141\u001b[0m \u001b[43m    \u001b[49m\u001b[43mssl_enabled\u001b[49m\u001b[38;5;241;43m=\u001b[39;49m\u001b[38;5;28;43mself\u001b[39;49m\u001b[38;5;241;43m.\u001b[39;49m\u001b[43m_ssl_active\u001b[49m\u001b[43m,\u001b[49m\n\u001b[1;32m    142\u001b[0m \u001b[43m    \u001b[49m\u001b[43mauth_plugin\u001b[49m\u001b[38;5;241;43m=\u001b[39;49m\u001b[38;5;28;43mself\u001b[39;49m\u001b[38;5;241;43m.\u001b[39;49m\u001b[43m_auth_plugin\u001b[49m\u001b[43m)\u001b[49m\n\u001b[1;32m    143\u001b[0m \u001b[38;5;28mself\u001b[39m\u001b[38;5;241m.\u001b[39m_socket\u001b[38;5;241m.\u001b[39msend(packet)\n\u001b[1;32m    144\u001b[0m \u001b[38;5;28mself\u001b[39m\u001b[38;5;241m.\u001b[39m_auth_switch_request(username, password)\n",
      "File \u001b[0;32m~/.local/lib/python3.8/site-packages/mysql/connector/protocol.py:99\u001b[0m, in \u001b[0;36mMySQLProtocol.make_auth\u001b[0;34m(self, handshake, username, password, database, charset, client_flags, max_allowed_packet, ssl_enabled, auth_plugin)\u001b[0m\n\u001b[1;32m     93\u001b[0m     username_bytes \u001b[38;5;241m=\u001b[39m username\n\u001b[1;32m     94\u001b[0m packet \u001b[38;5;241m=\u001b[39m struct\u001b[38;5;241m.\u001b[39mpack(\u001b[38;5;124m'\u001b[39m\u001b[38;5;124m<IIB\u001b[39m\u001b[38;5;132;01m{filler}\u001b[39;00m\u001b[38;5;132;01m{usrlen}\u001b[39;00m\u001b[38;5;124msx\u001b[39m\u001b[38;5;124m'\u001b[39m\u001b[38;5;241m.\u001b[39mformat(\n\u001b[1;32m     95\u001b[0m     filler\u001b[38;5;241m=\u001b[39m\u001b[38;5;124m'\u001b[39m\u001b[38;5;124mx\u001b[39m\u001b[38;5;124m'\u001b[39m \u001b[38;5;241m*\u001b[39m \u001b[38;5;241m23\u001b[39m, usrlen\u001b[38;5;241m=\u001b[39m\u001b[38;5;28mlen\u001b[39m(username_bytes)),\n\u001b[1;32m     96\u001b[0m                      client_flags, max_allowed_packet, charset,\n\u001b[1;32m     97\u001b[0m                      username_bytes)\n\u001b[0;32m---> 99\u001b[0m packet \u001b[38;5;241m+\u001b[39m\u001b[38;5;241m=\u001b[39m \u001b[38;5;28;43mself\u001b[39;49m\u001b[38;5;241;43m.\u001b[39;49m\u001b[43m_auth_response\u001b[49m\u001b[43m(\u001b[49m\u001b[43mclient_flags\u001b[49m\u001b[43m,\u001b[49m\u001b[43m \u001b[49m\u001b[43musername\u001b[49m\u001b[43m,\u001b[49m\u001b[43m \u001b[49m\u001b[43mpassword\u001b[49m\u001b[43m,\u001b[49m\n\u001b[1;32m    100\u001b[0m \u001b[43m                              \u001b[49m\u001b[43mdatabase\u001b[49m\u001b[43m,\u001b[49m\n\u001b[1;32m    101\u001b[0m \u001b[43m                              \u001b[49m\u001b[43mauth_plugin\u001b[49m\u001b[43m,\u001b[49m\n\u001b[1;32m    102\u001b[0m \u001b[43m                              \u001b[49m\u001b[43mauth_data\u001b[49m\u001b[43m,\u001b[49m\u001b[43m \u001b[49m\u001b[43mssl_enabled\u001b[49m\u001b[43m)\u001b[49m\n\u001b[1;32m    104\u001b[0m packet \u001b[38;5;241m+\u001b[39m\u001b[38;5;241m=\u001b[39m \u001b[38;5;28mself\u001b[39m\u001b[38;5;241m.\u001b[39m_connect_with_db(client_flags, database)\n\u001b[1;32m    106\u001b[0m \u001b[38;5;28;01mif\u001b[39;00m client_flags \u001b[38;5;241m&\u001b[39m ClientFlag\u001b[38;5;241m.\u001b[39mPLUGIN_AUTH:\n",
      "File \u001b[0;32m~/.local/lib/python3.8/site-packages/mysql/connector/protocol.py:58\u001b[0m, in \u001b[0;36mMySQLProtocol._auth_response\u001b[0;34m(self, client_flags, username, password, database, auth_plugin, auth_data, ssl_enabled)\u001b[0m\n\u001b[1;32m     55\u001b[0m     \u001b[38;5;28;01mreturn\u001b[39;00m \u001b[38;5;124mb\u001b[39m\u001b[38;5;124m'\u001b[39m\u001b[38;5;130;01m\\x00\u001b[39;00m\u001b[38;5;124m'\u001b[39m\n\u001b[1;32m     57\u001b[0m \u001b[38;5;28;01mtry\u001b[39;00m:\n\u001b[0;32m---> 58\u001b[0m     auth \u001b[38;5;241m=\u001b[39m \u001b[43mget_auth_plugin\u001b[49m\u001b[43m(\u001b[49m\u001b[43mauth_plugin\u001b[49m\u001b[43m)\u001b[49m(\n\u001b[1;32m     59\u001b[0m         auth_data,\n\u001b[1;32m     60\u001b[0m         username\u001b[38;5;241m=\u001b[39musername, password\u001b[38;5;241m=\u001b[39mpassword, database\u001b[38;5;241m=\u001b[39mdatabase,\n\u001b[1;32m     61\u001b[0m         ssl_enabled\u001b[38;5;241m=\u001b[39mssl_enabled)\n\u001b[1;32m     62\u001b[0m     plugin_auth_response \u001b[38;5;241m=\u001b[39m auth\u001b[38;5;241m.\u001b[39mauth_response()\n\u001b[1;32m     63\u001b[0m \u001b[38;5;28;01mexcept\u001b[39;00m (\u001b[38;5;167;01mTypeError\u001b[39;00m, errors\u001b[38;5;241m.\u001b[39mInterfaceError) \u001b[38;5;28;01mas\u001b[39;00m exc:\n",
      "File \u001b[0;32m~/.local/lib/python3.8/site-packages/mysql/connector/authentication.py:190\u001b[0m, in \u001b[0;36mget_auth_plugin\u001b[0;34m(plugin_name)\u001b[0m\n\u001b[1;32m    187\u001b[0m     \u001b[38;5;28;01mif\u001b[39;00m authclass\u001b[38;5;241m.\u001b[39mplugin_name \u001b[38;5;241m==\u001b[39m plugin_name:\n\u001b[1;32m    188\u001b[0m         \u001b[38;5;28;01mreturn\u001b[39;00m authclass\n\u001b[0;32m--> 190\u001b[0m \u001b[38;5;28;01mraise\u001b[39;00m errors\u001b[38;5;241m.\u001b[39mNotSupportedError(\n\u001b[1;32m    191\u001b[0m     \u001b[38;5;124m\"\u001b[39m\u001b[38;5;124mAuthentication plugin \u001b[39m\u001b[38;5;124m'\u001b[39m\u001b[38;5;132;01m{0}\u001b[39;00m\u001b[38;5;124m'\u001b[39m\u001b[38;5;124m is not supported\u001b[39m\u001b[38;5;124m\"\u001b[39m\u001b[38;5;241m.\u001b[39mformat(plugin_name))\n",
      "\u001b[0;31mNotSupportedError\u001b[0m: Authentication plugin 'caching_sha2_password' is not supported"
     ]
    }
   ],
   "source": [
    "import mysql.connector  \n",
    "  \n",
    "#Create the connection object   \n",
    "myconn = mysql.connector.connect(host = \"localhost\", user = \"root\",passwd = \"Pucit12345#\", database = \"housing_csv\")  \n",
    "  \n",
    "#printing the connection object   \n",
    "print(myconn)"
   ]
  },
  {
   "cell_type": "code",
   "execution_count": 5,
   "id": "d280be7e",
   "metadata": {},
   "outputs": [
    {
     "name": "stdout",
     "output_type": "stream",
     "text": [
      "1 record inserted!\n"
     ]
    }
   ],
   "source": [
    "import mysql.connector\n",
    "\n",
    "mydb = mysql.connector.connect(\n",
    "  host=\"localhost\",\n",
    "  user=\"root\",\n",
    "  password=\"Pucit12345#\",\n",
    "  database=\"ehtisham\",\n",
    "  auth_plugin='mysql_native_password'\n",
    ")\n",
    "cur = mydb.cursor()  \n",
    "sql = \"insert into STUDENTS(ID, NAME, AGE, ADDRESS) values (%s, %s, %s, %s)\"  \n",
    "  \n",
    "#The row values are provided in the form of tuple   \n",
    "val = (110,'Ahmed', 20 , \"Lahore\")  \n",
    "  \n",
    "try:  \n",
    "    cur.execute(sql,val)  \n",
    "    mydb.commit()\n",
    "except:  \n",
    "    mydb.rollback()  \n",
    "print(cur.rowcount,\"record inserted!\")  \n",
    "mydb.close()   "
   ]
  },
  {
   "cell_type": "code",
   "execution_count": 8,
   "id": "604ec4d9",
   "metadata": {},
   "outputs": [
    {
     "name": "stdout",
     "output_type": "stream",
     "text": [
      "(110, 'Ahmed', 20, 'Lahore')\n",
      "(501, 'Aleema ', 21, 'Lahore')\n",
      "(502, 'Azka', 21, 'Rawalpandi')\n",
      "(521, 'Ehtisham', 21, 'Okara')\n"
     ]
    }
   ],
   "source": [
    "import mysql.connector\n",
    "\n",
    "mydb = mysql.connector.connect(\n",
    "  host=\"localhost\",\n",
    "  user=\"root\",\n",
    "  password=\"Pucit12345#\",\n",
    "  database=\"ehtisham\",\n",
    "  auth_plugin='mysql_native_password'\n",
    ")\n",
    "cur = mydb.cursor()  \n",
    "try:  \n",
    "    #Reading the Employee data      \n",
    "    cur.execute(\"select * from STUDENTS\")  \n",
    "  \n",
    "    #fetching the rows from the cursor object  \n",
    "    result = cur.fetchall()  \n",
    "    #printing the result  \n",
    "      \n",
    "    for x in result:  \n",
    "        print(x);  \n",
    "except:  \n",
    "    mydb.rollback()  \n",
    "mydb.close()  "
   ]
  },
  {
   "cell_type": "code",
   "execution_count": null,
   "id": "41171607",
   "metadata": {},
   "outputs": [],
   "source": []
  }
 ],
 "metadata": {
  "kernelspec": {
   "display_name": "Python 3 (ipykernel)",
   "language": "python",
   "name": "python3"
  },
  "language_info": {
   "codemirror_mode": {
    "name": "ipython",
    "version": 3
   },
   "file_extension": ".py",
   "mimetype": "text/x-python",
   "name": "python",
   "nbconvert_exporter": "python",
   "pygments_lexer": "ipython3",
   "version": "3.8.10"
  }
 },
 "nbformat": 4,
 "nbformat_minor": 5
}
