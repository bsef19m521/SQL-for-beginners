{
 "cells": [
  {
   "cell_type": "markdown",
   "id": "bdba0667",
   "metadata": {},
   "source": [
    "# Learning Agenda of this Notebook:\n",
    "- What is SQL?\n",
    "- Why SQL?\n",
    "- Process of SQL?\n",
    "- Some SQL Commands?\n",
    " >- CREATE Command\n",
    " >- UPDATE Command\n",
    " >- DELETE Command\n",
    " >- SELECT Command\n",
    " >- DROP Command\n",
    " >- INSERT Command\n",
    "- Difference between SQL AND NoSQL\n",
    "- Advantages and Dis-advantages of SQL\n",
    "- What is SQL Syntax?\n",
    "- What is SQL Statement?\n",
    "- Most Important SQL Commands and Statements\n",
    " >- Select Statement\n",
    " >- Update Statement\n",
    " >- Delete Statement\n",
    " >- Create Table Statement\n",
    " >- Alter Table Statement\n",
    " >- Drop Table Statement\n",
    " >- Create Database Statement\n",
    " >- Drop Database Statement\n",
    " >- Insert Into Statement\n",
    " >- Truncate Table Statement\n",
    " >- Describe Statement\n",
    " >- Distinct Clause\n",
    " >- Commit Statement\n",
    " >- Rollback Statement\n",
    " >- Create Index Statement\n",
    " >- Drop Index Statement\n",
    " >- Use Statement\n",
    "- SQL Data Types\n",
    " >- String Data types\n",
    " >- Numeric Data types\n",
    " >- Date and time Data types\n",
    "- SQL Operators\n",
    " >- What is SQL Operator?\n",
    " >- What is the Precedence of SQL Operator?\n",
    " >- Types of Operator\n",
    "  - SQL Arithmetic Operators\n",
    "  >- SQL Comparison Operators\n",
    "  >- SQL Logical Operators\n",
    "  >- SQL Set Operators\n",
    "  >- SQL Bit-wise Operators\n",
    "  >- SQL Unary Operators"
   ]
  },
  {
   "cell_type": "code",
   "execution_count": null,
   "id": "1f082839",
   "metadata": {},
   "outputs": [],
   "source": []
  }
 ],
 "metadata": {
  "kernelspec": {
   "display_name": "Python 3 (ipykernel)",
   "language": "python",
   "name": "python3"
  },
  "language_info": {
   "codemirror_mode": {
    "name": "ipython",
    "version": 3
   },
   "file_extension": ".py",
   "mimetype": "text/x-python",
   "name": "python",
   "nbconvert_exporter": "python",
   "pygments_lexer": "ipython3",
   "version": "3.8.10"
  }
 },
 "nbformat": 4,
 "nbformat_minor": 5
}
