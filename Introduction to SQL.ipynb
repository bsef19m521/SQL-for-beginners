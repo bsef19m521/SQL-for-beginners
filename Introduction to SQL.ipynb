{
 "cells": [
  {
   "cell_type": "markdown",
   "id": "e97f3f85",
   "metadata": {},
   "source": [
    "---   \n",
    "\n",
    "<h1 align=\"center\">Introduction to Data Analyst and Data Science for beginners</h1>\n",
    "<h1 align=\"center\">Introduction to DBMS and SQL for beginners</h1>\n",
    "\n",
    "---\n",
    "<h3><div align=\"right\">Ehtisham Sadiq</div></h3>    "
   ]
  },
  {
   "cell_type": "markdown",
   "id": "bdba0667",
   "metadata": {},
   "source": [
    "# Learning Agenda of this Notebook:\n",
    "- What is Data?\n",
    "- What is Database?\n",
    "- Famous types of Databases\n",
    "- What is RDBMS?\n",
    "- DBMS vs RDBMS?\n",
    "- What is SQL?\n",
    "- SQL vs MySQL\n",
    "- Why SQL?\n",
    "- Types of SQL Commands?\n",
    " >- DDL\n",
    " >- DML\n",
    " >- DCL\n",
    " >- TCL\n",
    " >- DQL\n",
    "- Difference between SQL AND NoSQL\n",
    "- Advantages and Dis-advantages of SQL\n",
    "- What is SQL Syntax?\n",
    "- Datatypes in SQL\n",
    "- SQL Operators\n",
    "- What is SQL Statement?\n",
    "- SQL Database Commands\n",
    " >- SQL CREATE Database\n",
    " >- SQL DROP Database\n",
    " >- SQL RENAME Database\n",
    " >- SQL SELECT Database\n",
    " \n",
    "- SQL Table Commands\n",
    " >- What is Table\n",
    " >- SQL CREATE TABLE\n",
    " >- SQL DROP TABLE\n",
    " >- SQL DELETE TABLE\n",
    " >- SQL RENAME TABLE\n",
    " >- SQL TRUNCATE TABLE\n",
    " >- SQL COPY TABLE\n",
    " >- SQL TEMP TABLE\n",
    " >- SQL ALTER TABLE\n",
    " \n",
    "- SQL SELECT Commands\n",
    " >- SELECT Statement\n",
    " >- SQL SELECT UNIQUE\n",
    " >- SQL SELECT DISTINCT\n",
    " >- SQL SELECT COUNT\n",
    " >- SQL SELECT TOP\n",
    " >- SQL SELECT FIRST\n",
    " >- SQL SELECT LAST\n",
    " >- SQL SELECT RANDOM\n",
    " >- SQL SELECT IN\n",
    " >- SQL SELECT Multiple\n",
    " >- SQL SELECT DATE\n",
    " >- SQL SELECT SUM\n",
    " >- SQL SELECT NULL\n",
    "\n",
    "- SQL Clause\n",
    ">- SQL WHERE\n",
    ">- SQL AND\n",
    ">- SQL OR\n",
    ">- SQL WITH\n",
    ">- SQL AS\n",
    ">- SQL HAVING Clause\n",
    "\n",
    "- SQL Order By\n",
    ">- ORDER BY Clause\n",
    ">- ORDER BY ASC\n",
    ">- ORDER BY DESC\n",
    ">- ORDER BY RANDOM\n",
    ">- ORDER BY LIMIT\n",
    ">- ORDER BY Multiple Cols\n",
    "\n",
    "- SQL Insert commands\n",
    ">- INSERT Statement\n",
    ">- INSERT INTO Values\n",
    ">- INSERT INTO SELECT\n",
    ">- INSERT Multiple Rows\n",
    "\n",
    "- SQL Update\n",
    ">- UPDATE Statement\n",
    ">- SQL UPDATE JOIN\n",
    ">- SQL UPDATE DATE\n",
    "\n",
    "- SQL Delete\n",
    ">- DELETE Statement\n",
    ">- SQL DELETE TABLE\n",
    ">- SQL DELETE ROW\n",
    ">- SQL DELETE All Rows\n",
    ">- DELETE Duplicate Rows\n",
    ">- SQL DELETE DATABASE\n",
    ">- SQL DELETE VIEW\n",
    ">- SQL DELETE JOIN\n",
    "\n",
    "- SQL Join commands\n",
    ">- SQL JOIN\n",
    ">- SQL Outer Join\n",
    ">- SQL Left Join\n",
    ">- SQL Right Join\n",
    ">- SQL Full Join\n",
    ">- SQL Cross Join\n",
    "\n",
    "- SQL Keys\n",
    ">- Primary Key\n",
    ">- Foreign Key\n",
    ">- Composite Key\n",
    ">- Unique Key\n",
    ">- Alternate Key\n",
    "\n",
    "- SQL Data Types\n",
    " >- String Data types\n",
    " >- Numeric Data types\n",
    " >- Date and time Data types\n",
    "- SQL Operators\n",
    " >- What is SQL Operator?\n",
    " >- What is the Precedence of SQL Operator?\n",
    " >- Types of Operator\n",
    "  - SQL Arithmetic Operators\n",
    "  >- SQL Comparison Operators\n",
    "  >- SQL Logical Operators\n",
    "  >- SQL Set Operators\n",
    "  >- SQL Bit-wise Operators\n",
    "  >- SQL Unary Operators\n",
    "  \n",
    "- Difference\n",
    ">- IN vs EXISTS\n",
    ">- Group By vs Order By\n",
    ">- WHERE vs HAVING\n",
    ">- Where condition in SQL\n",
    "\n",
    "- Interview Questions Answers\n",
    "- Case Studies\n",
    "- Python MySQL\n",
    " >- Environment Setup\n",
    " >- Database Connection\n",
    " >- Creating New Database\n",
    " >- Creating Tables\n",
    " >- Insert Operation\n",
    " >- Read Operation\n",
    " >- Update Operation\n",
    " >- Join Operation\n",
    " >- Performing Transactions\n"
   ]
  },
  {
   "cell_type": "markdown",
   "id": "4d7bc029",
   "metadata": {},
   "source": [
    "# What is Data?\n",
    "- Data is a collection of a distinct small unit of information. It can be used in a variety of forms like text, numbers, media, bytes, etc. it can be stored in pieces of paper or electronic memory, etc.\n",
    "- In computing, Data is information that can be translated into a form for efficient movement and processing. Data is interchangeable."
   ]
  },
  {
   "cell_type": "markdown",
   "id": "736aea14",
   "metadata": {},
   "source": [
    "# What is Database?\n",
    "- A database is an organized collection of data, so that it can be easily accessed and managed.\n",
    "- You can organize data into tables, rows, columns, and index it to make it easier to find relevant information.\n",
    "- Database handlers create a database in such a way that only one set of software program provides access of data to all the users.\n",
    "- The main purpose of the database is to operate a large amount of information by storing, retrieving, and managing data.\n",
    "- There are many dynamic websites on the World Wide Web nowadays which are handled through databases. For example, a model that checks the availability of rooms in a hotel. It is an example of a dynamic website that uses a database.\n",
    "- There are many databases available like MySQL, Sybase, Oracle, MongoDB, Informix, PostgreSQL, SQL Server, etc.\n",
    "- Modern databases are managed by the database management system (DBMS).\n",
    "- SQL or Structured Query Language is used to operate on the data stored in a database. SQL depends on relational algebra and tuple relational calculus."
   ]
  },
  {
   "cell_type": "markdown",
   "id": "86074f06",
   "metadata": {},
   "source": [
    "# Types of Databases:\n",
    "There are various types of databases used for storing different varieties of data.\n",
    "![](types-of-databases.png)"
   ]
  },
  {
   "cell_type": "markdown",
   "id": "f56586aa",
   "metadata": {},
   "source": [
    "### Centralized Database\n",
    "- It is the type of database that stores data at a centralized database system. It comforts the users to access the stored data from different locations through several applications. These applications contain the authentication process to let users access data securely. \n",
    "- An example of a Centralized database can be Central Library that carries a central database of each library in a college/university."
   ]
  },
  {
   "cell_type": "markdown",
   "id": "075a2e03",
   "metadata": {},
   "source": [
    "### Distributed Database\n",
    "- Unlike a centralized database system, in distributed systems, data is distributed among different database systems of an organization. These database systems are connected via communication links. Such links help the end-users to access the data easily. \n",
    "- Examples of the Distributed database are Apache Cassandra, HBase, Ignite, etc."
   ]
  },
  {
   "cell_type": "markdown",
   "id": "868651b5",
   "metadata": {},
   "source": [
    "### Relational Database\n",
    "- This database is based on the relational data model, which stores data in the form of rows(tuple) and columns(attributes), and together forms a table(relation). A relational database uses SQL for storing, manipulating, as well as maintaining the data. E.F. Codd invented the database in 1970. Each table in the database carries a key that makes the data unique from others. \n",
    "- Examples of Relational databases are MySQL, Microsoft SQL Server, Oracle, etc.\n",
    "<img src=\"images/relational theory.png\">"
   ]
  },
  {
   "cell_type": "markdown",
   "id": "32a9e44d",
   "metadata": {},
   "source": [
    "### NoSQL Database\n",
    "Non-SQL/Not Only SQL is a type of database that is used for storing a wide range of data sets. It is not a relational database as it stores data not only in tabular form but in several different ways. It came into existence when the demand for building modern applications increased. Thus, NoSQL presented a wide variety of database technologies in response to the demands. "
   ]
  },
  {
   "cell_type": "markdown",
   "id": "39c3c277",
   "metadata": {},
   "source": [
    "### Cloud Database\n",
    "A type of database where data is stored in a virtual environment and executes over the cloud computing platform. It provides users with various cloud computing services (SaaS, PaaS, IaaS, etc.) for accessing the database. There are numerous cloud platforms, but the best options are:\n",
    "\n",
    "- Amazon Web Services(AWS)\n",
    "- Microsoft Azure\n",
    "- Kamatera\n",
    "- PhonixNAP\n",
    "- ScienceSoft\n",
    "- Google Cloud SQL, etc."
   ]
  },
  {
   "cell_type": "markdown",
   "id": "789d759f",
   "metadata": {},
   "source": [
    "### Object-oriented Databases\n",
    "The type of database that uses the object-based data model approach for storing data in the database system. The data is represented and stored as objects which are similar to the objects used in the object-oriented programming language."
   ]
  },
  {
   "cell_type": "markdown",
   "id": "8b399931",
   "metadata": {},
   "source": [
    "### Hierarchical Databases\n",
    "- It is the type of database that stores data in the form of parent-children relationship nodes. Here, it organizes data in a tree-like structure.\n",
    "- Data get stored in the form of records that are connected via links. Each child record in the tree will contain only one parent. On the other hand, each parent record can have multiple child records.\n",
    "<img src=\"images/types-of-databases4.png\">"
   ]
  },
  {
   "cell_type": "markdown",
   "id": "54c7af00",
   "metadata": {},
   "source": [
    "### Personal Database\n",
    "Collecting and storing data on the user's system defines a Personal Database. This database is basically designed for a single user."
   ]
  },
  {
   "cell_type": "markdown",
   "id": "3f85c962",
   "metadata": {},
   "source": [
    "# What is RDBMS (Relational Database Management System)\n",
    "- `RDBMS` stands for Relational Database Management System.\n",
    "- All modern database management systems like SQL, MS SQL Server, IBM DB2, ORACLE, My-SQL, and Microsoft Access are based on RDBMS.\n",
    "- It is called Relational Database Management System (RDBMS) because it is based on the relational model introduced by E.F. Codd.\n",
    "\n",
    "### How it works\n",
    "- Data is represented in terms of tuples (rows) in RDBMS.\n",
    "- A relational database is the most commonly used database. It contains several tables, and each table has its primary key.\n",
    "- Due to a collection of an organized set of tables, data can be accessed easily in RDBMS.\n",
    "<img src=\"images/what-is-rdbms.png\">"
   ]
  },
  {
   "cell_type": "markdown",
   "id": "62a44c6d",
   "metadata": {},
   "source": [
    "# Difference between DBMS and RDBMS\n",
    "### DBMS:\n",
    "- DBMS applications store data as file.\n",
    "- In DBMS, data is generally stored in either a hierarchical form or a navigational form.\n",
    "- DBMS uses file system to store data, so there will be no relation between the tables.\n",
    "- DBMS has to provide some uniform methods to access the stored information.\n",
    "- DBMS does not support distributed database.\n",
    "- DBMS is meant to be for small organization and deal with small data. it supports single user.\n",
    "- Examples of DBMS are file systems, xml etc.\n",
    "\n",
    "### RDBMS:\n",
    "- RDBMS applications store data in a tabular form.\n",
    "- In RDBMS, the tables have an identifier called primary key and the data values are stored in the form of tables.\n",
    "- In RDBMS, data values are stored in the form of tables, so a relationship between these data values will be stored in the form of a table as well.\n",
    "- RDBMS system supports a tabular structure of the data and a relationship between them to access the stored information.\n",
    "- RDBMS supports distributed database.\n",
    "- RDBMS is designed to handle large amount of data. it supports multiple users.\n",
    "- Example of RDBMS are mysql, postgre, sql server, oracle etc."
   ]
  },
  {
   "cell_type": "markdown",
   "id": "bcd395b6",
   "metadata": {},
   "source": [
    "# What is SQL?\n",
    "- SQL is a short-form of the structured query language.\n",
    "- This database language is mainly designed for maintaining the data in relational database management systems. It is a special tool used by data professionals for handling structured data (data which is stored in the form of tables). It is also designed for stream processing in RDSMS.\n",
    "- You can easily create and manipulate the database, access and modify the table rows and columns, etc. "
   ]
  },
  {
   "cell_type": "markdown",
   "id": "89fbae4e",
   "metadata": {},
   "source": [
    "# SQL vs MySQL\n",
    "<img src=\"images/Difference-Between-SQL-and-MySQL-Comparison-Summary.jpg\" height=600px width=600px>"
   ]
  },
  {
   "cell_type": "markdown",
   "id": "0bc8f4e5",
   "metadata": {},
   "source": [
    "# Why SQL?\n",
    "Nowadays, SQL is widely used in data science and analytics. Following are the reasons which explain why it is widely used:\n",
    "\n",
    "- The basic use of SQL for data professionals and SQL users is to insert, update, and delete the data from the relational database.\n",
    "- SQL allows the data professionals and users to retrieve the data from the relational database management systems.\n",
    "- It also helps them to describe the structured data.\n",
    "- It allows SQL users to create, drop, and manipulate the database and its tables.\n",
    "- It also helps in creating the view, stored procedure, and functions in the relational database.\n",
    "- It allows you to define the data and modify that stored data in the relational database.\n",
    "- It also allows SQL users to set the permissions or constraints on table columns, views, and stored procedures."
   ]
  },
  {
   "cell_type": "markdown",
   "id": "55349a17",
   "metadata": {},
   "source": [
    "# Types of SQL Commands\n",
    "- SQL commands are instructions. It is used to communicate with the database. It is also used to perform specific tasks, functions, and queries of data.\n",
    "- SQL can perform various tasks like create a table, add data to tables, drop the table, modify the table, set permission for users.\n",
    "### Types of SQL Commands\n",
    "- There are five types of SQL commands: DDL, DML, DCL, TCL, and DQL.\n",
    "<img src=\" images/dbms-sql-command.png\">\n",
    "\n",
    "### Data Definition Language (DDL)\n",
    "- DDL changes the structure of the table like creating a table, deleting a table, altering a table, etc.\n",
    "- All the command of DDL are auto-committed that means it permanently save all the changes in the database.\n",
    "Here are some commands that come under DDL:\n",
    " >- CREATE(t is used to create a new table in the database.)\n",
    " >- ALTER (It is used to delete both the structure and record stored in the table.)\n",
    " >- DROP (It is used to alter the structure of the database. This change could be either to modify the characteristics of an existing attribute or probably to add a new attribute.)\n",
    " >- TRUNCATE ( It is used to delete all the rows from the table and free the space containing the table.)\n",
    " \n",
    " \n",
    "### Data Manipulation Language\n",
    "- DML commands are used to modify the database. It is responsible for all form of changes in the database.\n",
    "- The command of DML is not auto-committed that means it can't permanently save all the changes in the database. They can be rollback.\n",
    "Here are some commands that come under DML:\n",
    "\n",
    " >- INSERT(The INSERT statement is a SQL query. It is used to insert data into the row of a table.)\n",
    " >- UPDATE(This command is used to update or modify the value of a column in the table.)\n",
    " >- DELETE(It is used to remove one or more row from a table.)\n",
    " \n",
    " \n",
    "### Data Control Language\n",
    "- DCL commands are used to grant and take back authority from any database user.\n",
    "Here are some commands that come under DCL:\n",
    " >- grant(It is used to give user access privileges to a database)\n",
    " >- Revoke(It is used to take back permissions from the user.)\n",
    "\n",
    "\n",
    "### Transaction Control Language\n",
    "- TCL commands can only use with DML commands like INSERT, DELETE and UPDATE only.\n",
    "- These operations are automatically committed in the database that's why they cannot be used while creating tables or dropping them.\n",
    "Here are some commands that come under TCL:\n",
    " >- COMMIT(Commit command is used to save all the transactions to the database.)\n",
    " >- ROLLBACK(Rollback command is used to undo transactions that have not already been saved to the database.)\n",
    " >- SAVEPOINT(It is used to roll the transaction back to a certain point without rolling back the entire transaction.)\n",
    " \n",
    "### Data Query Language\n",
    "- DQL is used to fetch the data from the database.\n",
    "It uses only one command:\n",
    " >- SELECT(This is the same as the projection operation of relational algebra. It is used to select the attribute based on the condition described by WHERE clause.)"
   ]
  },
  {
   "cell_type": "markdown",
   "id": "3670e1bd",
   "metadata": {},
   "source": [
    "# SQL vs NoSQL\n",
    "- Databases are categorized as Relational Database Management System (RDBMS) while NoSQL databases are categorized as Non-relational or distributed database system.\n",
    "- SQL databases have fixed or static or predefined schema while NoSQL databases have dynamic schema.\n",
    "- SQL databases display data in form of tables so it is known as table-based database while NoSQL databases display data as collection of key-value pair, documents, graph databases or wide-column stores.\n",
    "- SQL databases are vertically scalable while NoSQL databases are horizontally scalable.\n",
    "- SQL databases are not best suited for hierarchical data storage while NoSQL databases are best suited for hierarchical data storage.\n",
    "- MySQL, Oracle, Sqlite, PostgreSQL and MS-SQL etc. are the example of SQL database while MongoDB, BigTable, Redis, RavenDB, Cassandra, Hbase, Neo4j, CouchDB etc. are the example of nosql database\n",
    "<img src=\"images/nosql_vs_sql-1024x724.jpeg\" height=600px width=600px >"
   ]
  },
  {
   "cell_type": "markdown",
   "id": "dfb449e6",
   "metadata": {},
   "source": [
    "# Advantages and Disadvantages of SQL\n",
    "### Advantages:\n",
    "- No programming needed\n",
    "- High Speed Query Processing\n",
    "- Standardized Language\n",
    "- Portability\n",
    "- Interactive language\n",
    "- More than one Data View\n",
    "\n",
    "### Disadvantages\n",
    "- Cost\n",
    "- Interface is Complex\n",
    "- Partial Database control"
   ]
  },
  {
   "cell_type": "markdown",
   "id": "6f465d5a",
   "metadata": {},
   "source": [
    "# SQL Syntax\n",
    "When you want to do some operations on the data in the database, then you must have to write the query in the predefined syntax of SQL.\n",
    "Following are some most important points about the SQL syntax which are to remember:\n",
    "- You can write the keywords of SQL in both uppercase and lowercase, but writing the SQL keywords in uppercase improves the readability of the SQL query.\n",
    "- SQL statements or syntax are dependent on text lines. We can place a single SQL statement on one or multiple text lines.\n",
    "- You can perform most of the action in a database with SQL statements.\n",
    "- SQL syntax depends on relational algebra and tuple relational calculus.\n"
   ]
  },
  {
   "cell_type": "markdown",
   "id": "9a68fbf8",
   "metadata": {},
   "source": [
    "# SQL Statement\n",
    "- SQL statements tell the database what operation you want to perform on the structured data and what information you would like to access from the database.\n",
    "\n",
    "- The statements of SQL are very simple and easy to use and understand. They are like plain English but with a particular syntax.\n",
    "\n",
    "#### Simple Example of SQL statement:\n",
    "\n",
    "`SELECT \"column_name\" FROM \"table_name\";`     \n",
    "Each SQL statement begins with any of the SQL keywords and ends with the semicolon (;). The semicolon is used in the SQL for separating the multiple Sql statements which are going to execute in the same call. In this SQL tutorial, we will use the semicolon (;) at the end of each SQL query or statement."
   ]
  },
  {
   "cell_type": "markdown",
   "id": "cb174f60",
   "metadata": {},
   "source": [
    "# Datatypes in SQL\n",
    "### MySQL String Data Types:\n",
    "\n",
    "- CHAR(Size)\n",
    " >- It is used to specify a fixed length string that can contain numbers, letters, and special characters. Its size can be 0 to 255 characters. Default is 1.\n",
    "- VARCHAR(Size)\t\n",
    " >- It is used to specify a variable length string that can contain numbers, letters, and special characters. Its size can be from 0 to 65535 characters.\n",
    "- BINARY(Size)\t\n",
    " >- It is equal to CHAR() but stores binary byte strings. Its size parameter specifies the column length in the bytes. Default is 1.\n",
    "- VARBINARY(Size)\t\n",
    " >- It is equal to VARCHAR() but stores binary byte strings. Its size parameter specifies the maximum column length in bytes.\n",
    "- TEXT(Size)\t\n",
    " >- It holds a string that can contain a maximum length of 255 characters.\n",
    "- MEDIUMTEXT\t\n",
    " >- It holds a string with a maximum length of 16,777,215."
   ]
  },
  {
   "cell_type": "markdown",
   "id": "7d727f02",
   "metadata": {},
   "source": [
    "### MySQL Numeric Data Types\n",
    "- BIT(Size)\n",
    " >- It is used for a bit-value type. The number of bits per value is specified in size. Its size can be 1 to 64. The default value is 1.\n",
    "- INT(size)\n",
    " >- It is used for the integer value. Its signed range varies from -2147483648 to 2147483647 and unsigned range varies from 0 to 4294967295. The size parameter specifies the max display width that is 255.\n",
    "- FLOAT(size, d)\n",
    " >- It is used to specify a floating point number. Its size parameter specifies the total number of digits. The number of digits after the decimal point is specified by d parameter.\n",
    "- DOUBLE(size, d)\n",
    " >- It is a normal size floating point number. Its size parameter specifies the total number of digits. The number of digits after the decimal is specified by d parameter.\n",
    "- DECIMAL(size, d)\n",
    " >- It is used to specify a fixed point number. Its size parameter specifies the total number of digits. The number of digits after the decimal parameter is specified by d parameter. The maximum value for the size is 65, and the default value is 10. The maximum value for d is 30, and the default value is 0.\n",
    "- BOOL\n",
    " >- It is used to specify Boolean values true and false. Zero is considered as false, and nonzero values are considered as true."
   ]
  },
  {
   "cell_type": "markdown",
   "id": "16188156",
   "metadata": {},
   "source": [
    "### MySQL Date and Time Data Types\n",
    "- DATE\n",
    " >- It is used to specify date format YYYY-MM-DD. Its supported range is from '1000-01-01' to '9999-12-31'.\n",
    "- DATETIME(fsp)\n",
    " >- It is used to specify date and time combination. Its format is YYYY-MM-DD hh:mm:ss. Its supported range is from '1000-01-01 00:00:00' to 9999-12-31 23:59:59'.\n",
    "- YEAR\t\n",
    " >- It is used to specify a year in four-digit format. Values allowed in four digit format from 1901 to 2155, and 0000."
   ]
  },
  {
   "cell_type": "markdown",
   "id": "f8dd305f",
   "metadata": {},
   "source": [
    "# SQL Database Commands"
   ]
  },
  {
   "cell_type": "markdown",
   "id": "08892762",
   "metadata": {},
   "source": [
    "#### 1. CREATE Database:\n",
    "This command is used in MySQL to create the new database for storing the structured data.\n",
    "#### Syntax:\n",
    "CREATE DATABASE database_name;"
   ]
  },
  {
   "cell_type": "markdown",
   "id": "842a9d0c",
   "metadata": {},
   "source": [
    "#### 2. SHOW Database:\n",
    "This command shows all the databases in our database.\n",
    "#### Syntax:\n",
    "SHOW Databases;"
   ]
  },
  {
   "cell_type": "markdown",
   "id": "13e09086",
   "metadata": {},
   "source": [
    "#### 3. SQL DROP Database\n",
    "The SQL Drop Database statement deletes the existing database permanently from the database system. This statement deletes all the views and tables if stored in the database, so be careful while using this query in SQL.\n",
    "\n",
    "Following are the most important points which are required to learn before removing the database from the database system:\n",
    "- This statement deletes all the data from the database. If you want to restore the deleted data in the future, you should keep the backup of data of that database which you want to delete.\n",
    "- Another most important point is that you cannot delete that database from the system which is currently in use by another database user. If you do so, then the drop statement shows the following error on screen:   \n",
    "`Cannot drop database \"name_of_the_database\" because it is currently in use.`   \n",
    "#### Syntax: \n",
    "DROP DATABASE database_name;\n"
   ]
  },
  {
   "cell_type": "markdown",
   "id": "7eca71b8",
   "metadata": {},
   "source": [
    "We can also delete multiple databases easily by using the single DROP syntax:\n",
    "\n",
    "`DROP DATABASE Database_Name1, Database_Name2, ......., Database_NameN;  `"
   ]
  },
  {
   "cell_type": "markdown",
   "id": "365128a9",
   "metadata": {},
   "source": [
    "#### 4. SQL USE Command\n",
    "#### Syntax of USE statement in SQL\n",
    "`USE database_name;`\n",
    "In this syntax, we have to define the name of the database after the USE keyword and the name of the database must be unique."
   ]
  },
  {
   "cell_type": "markdown",
   "id": "22f76ef8",
   "metadata": {},
   "source": [
    "### Example 1: \n",
    "Suppose, you want to work with the `Hospital` database. For this firstly, you have to check that if the Hospital database exists on the current database server or not by using the following query:     \n",
    "`SHOW DATABASES;`      \n",
    "\n",
    "If the Hospital database is shown in the output, then you have to execute the following query to select the Hospital database:\n",
    "\n",
    "`USE Hospital`;\n",
    "\n"
   ]
  },
  {
   "cell_type": "markdown",
   "id": "1c955504",
   "metadata": {},
   "source": [
    "### Example 2: \n",
    "Suppose, you want to work with another `College` database in SQL. For this firstly, you have to check that the College database exists on the current database server or not by using the following query:\n",
    "\n",
    "`SHOW DATABASES;`  \n",
    "\n",
    "If the College database is shown in the result, then you have to execute the following query to select the College database:\n",
    "\n",
    "`USE College;`  "
   ]
  },
  {
   "cell_type": "markdown",
   "id": "8656c7da",
   "metadata": {},
   "source": [
    "# SQL TABLE Commands\n",
    "- Table is a collection of data, organized in terms of rows and columns. In DBMS term, table is known as relation and row as tuple.\n",
    "### 1. SQL TABLE Variable\n",
    "The SQL Table variable is used to create, modify, rename, copy and delete tables. Table variable was introduced by Microsoft.\n",
    "- Table variables are used to store a set of records. So declaration syntax generally looks like CREATE TABLE syntax.\n",
    "\n",
    "```\n",
    "create table \"tablename\"  \n",
    "(\"column1\" \"data type\",  \n",
    "\"column2\" \"data type\",  \n",
    "...  \n",
    "\"columnN\" \"data type\");  \n",
    "```\n",
    "- When a transaction rolled back the data associated with table variable is not rolled back.\n",
    "\n",
    "- A table variable generally uses lesser resources than a temporary variable.\n",
    "\n",
    "- Table variable cannot be used as an input or an output parameter."
   ]
  },
  {
   "cell_type": "markdown",
   "id": "6fde9f50",
   "metadata": {},
   "source": [
    "### 2. SQL CREATE TABLE\n",
    "- SQL CREATE TABLE statement is used to create table in a database.\n",
    "- If you want to create a table, you should name the table and define its column and each column's data type.\n",
    "\n",
    "Let's see the simple syntax to create the table.\n",
    "```\n",
    "create table \"tablename\"  \n",
    "(\"column1\" \"data type\",  \n",
    "\"column2\" \"data type\",  \n",
    "\"column3\" \"data type\",  \n",
    "...  \n",
    "\"columnN\" \"data type\");  \n",
    "```\n",
    "\n",
    "- The data type of the columns may vary from one database to another. For example, NUMBER is supported in Oracle database for integer value whereas INT is supported in MySQL.\n"
   ]
  },
  {
   "cell_type": "markdown",
   "id": "a1a75edd",
   "metadata": {},
   "source": [
    "### Example 3:\n",
    "Create a database `College` , in this database create a table  `STUDENTS` with ID as primary key and NOT NULL are the constraint showing that these fields cannot be NULL while creating records in the table. Other columns names are name, age, address."
   ]
  },
  {
   "cell_type": "markdown",
   "id": "354726cd",
   "metadata": {},
   "source": [
    "```\n",
    "CREATE TABLE STUDENTS (  \n",
    "ID INT                           NOT NULL,  \n",
    "NAME VARCHAR (20) NOT NULL,  \n",
    "AGE INT                         NOT NULL,  \n",
    "ADDRESS CHAR (25),  \n",
    "PRIMARY KEY (ID)  \n",
    ");  \n",
    "```"
   ]
  },
  {
   "cell_type": "markdown",
   "id": "19f81767",
   "metadata": {},
   "source": [
    "Note:\n",
    " >- DESC command is used to give the descriptive view of database table."
   ]
  },
  {
   "cell_type": "markdown",
   "id": "f0489e29",
   "metadata": {},
   "source": [
    "### 3. Create a Table using another table\n",
    "- We can create a copy of an existing table using the create table command. The new table gets the same column signature as the old table. We can select all columns or some specific columns.\n",
    "- If we create a new table using an old table, the new table will be filled with the existing value from the old table.\n",
    "\n",
    "\n",
    "\n",
    "```\n",
    "CREATE TABLE table_name  AS  \n",
    "SELECT column1, column2,...   \n",
    "FROM old_table_name WHERE ..... ;  \n",
    "```\n",
    "### Example: \n",
    "The following SQL creates a copy of the employee table.  \n",
    "```\n",
    "CREATE TABLE EmployeeCopy AS  \n",
    "SELECT EmployeeID, FirstName, Email  \n",
    "FROM Employee;  \n",
    "```"
   ]
  },
  {
   "cell_type": "markdown",
   "id": "5d378fae",
   "metadata": {},
   "source": [
    "### 4. SQL Primary Key with CREATE TABLE Statement\n",
    "The following query creates a PRIMARY KEY on the `ID` column when the \"Employee\" table is created.\n",
    "```\n",
    "CREATE TABLE Employee(  \n",
    "EmployeeID NOT NULL,  \n",
    "FirstName varchar(255) NOT NULL,  \n",
    "LastName varchar(255),  \n",
    "City varchar(255),  \n",
    "PRIMARY KEY (EmployeeID)  \n",
    "); \n",
    "```"
   ]
  },
  {
   "cell_type": "markdown",
   "id": "b0a47c56",
   "metadata": {},
   "source": [
    "### 5. SQL DROP TABLE\n",
    "- A SQL DROP TABLE statement is used to delete a table definition and all data from a table.\n",
    "- This is very important to know that once a table is deleted all the information available in the table is lost forever, so we have to be very careful when using this command.\n",
    "\n",
    "#### Syntax:\n",
    "`DROP TABLE \"table_name\";  `"
   ]
  },
  {
   "cell_type": "markdown",
   "id": "904c4395",
   "metadata": {},
   "source": [
    "### 6. SQL DELETE TABLE\n",
    "The DELETE statement is used to delete rows from a table. If you want to remove a specific row from a table you should use WHERE condition.\n",
    "\n",
    "```\n",
    "DELETE FROM table_name [WHERE condition];  \n",
    "```\n",
    "But if you do not specify the WHERE condition it will remove all the rows from the table.\n",
    "\n",
    "```\n",
    "DELETE FROM table_name;\n",
    "```\n",
    "There are some more terms similar to DELETE statement like as DROP statement and TRUNCATE statement but they are not exactly same there are some differences between them."
   ]
  },
  {
   "cell_type": "markdown",
   "id": "96d7508b",
   "metadata": {},
   "source": [
    "### Difference between DELETE and TRUNCATE statements\n",
    "- There is a slight difference b/w delete and truncate statement. The DELETE statement only deletes the rows from the table based on the condition defined by WHERE clause or delete all the rows from the table when condition is not specified.\n",
    "- But it does not free the space containing by the table.\n",
    "- The TRUNCATE statement: it is used to delete all the rows from the table and free the containing space."
   ]
  },
  {
   "cell_type": "markdown",
   "id": "84b6220c",
   "metadata": {},
   "source": [
    "### Difference b/w DROP and TRUNCATE statements\n",
    "When you use the drop statement it deletes the table's row together with the table's definition so all the relationships of that table with other tables will no longer be valid.\n",
    "\n",
    "When you drop a table:\n",
    "\n",
    " >- Table structure will be dropped\n",
    " >- Relationship will be dropped\n",
    " >- Integrity constraints will be dropped\n",
    " >- Access privileges will also be dropped\n",
    " \n",
    "On the other hand when we `TRUNCATE` a table, the table structure remains the same, so you will not face any of the above problems."
   ]
  },
  {
   "cell_type": "markdown",
   "id": "9fb3e5fd",
   "metadata": {},
   "source": [
    "### 7. SQL RENAME TABLE\n",
    "- Any database user can easily change the name by using the RENAME TABLE and ALTER TABLE statement in Structured Query Language.\n",
    "- The RENAME TABLE and ALTER TABLE syntax help in changing the name of the table.\n",
    "### Syntax\n",
    "```\n",
    "RENAME TABLE old_table _name To new_table_name ;    \n",
    "```"
   ]
  },
  {
   "cell_type": "markdown",
   "id": "b25ff964",
   "metadata": {},
   "source": [
    "### 8. SQL TRUNCATE TABLE\n",
    "- A truncate SQL statement is used to remove all rows (complete data) from a table. It is similar to the DELETE statement with no WHERE clause.\n",
    "- Truncate table is faster and uses lesser resources than DELETE TABLE command.\n",
    "- Drop table command can also be used to delete complete table but it deletes table structure too. TRUNCATE TABLE doesn't delete the structure of the table.\n",
    "Syntax: \n",
    "```\n",
    "TRUNCATE TABLE table_name;  \n",
    "```"
   ]
  },
  {
   "cell_type": "markdown",
   "id": "375f394c",
   "metadata": {},
   "source": [
    "### 9. SQL COPY TABLE\n",
    "- If you want to copy the data of one SQL table into another SQL table in the same SQL server, then it is possible by using the SELECT INTO statement in SQL.\n",
    "\n",
    "- The SELECT INTO statement in Structured Query Language copies the content from one existing table into the new table. SQL creates the new table by using the structure of the existing table.\n",
    "\n",
    "### Syntax of SELECT INTO statement in SQL\n",
    "```\n",
    "SELECT * INTO New_table_name FROM old_table_name;  \n",
    "```"
   ]
  },
  {
   "cell_type": "markdown",
   "id": "126535b7",
   "metadata": {},
   "source": [
    "### Syntax of SELECT INTO statement with WHERE clause in SQL\n",
    "```\n",
    "SELECT * INTO New_table_name FROM old_table_name WHERE [ condition ] ;  \n",
    "```"
   ]
  },
  {
   "cell_type": "markdown",
   "id": "0deb1318",
   "metadata": {},
   "source": [
    "### 10. SQL ALTER TABLE\n",
    "- The ALTER TABLE statement in Structured Query Language allows you to add, modify, and delete columns of an existing table. This statement also allows database users to add and remove various SQL constraints on the existing tables.\n",
    "- Any user can also change the name of the table using this statement.\n",
    "### ALTER TABLE ADD Column statement in SQL\n",
    "In many situations, you may require to add the columns in the existing table. Instead of creating a whole table or database again you can easily add single and multiple columns using the ADD keyword.\n",
    "\n",
    "### Syntax of ALTER TABLE ADD Column statement in SQL\n",
    "```\n",
    "ALTER TABLE table_name ADD column_name column-definition;\n",
    "```\n",
    "\n",
    "The above syntax only allows you to add a single column to the existing table. If you want to add more than one column to the table in a single SQL statement, then use the following syntax:\n",
    "```\n",
    "ALTER TABLE table_name     \n",
    "ADD (column_Name1 column-definition,    \n",
    "column_Name2 column-definition,    \n",
    ".....    \n",
    "column_NameN column-definition);    \n",
    "```\n"
   ]
  },
  {
   "cell_type": "markdown",
   "id": "d2d74bc0",
   "metadata": {},
   "source": [
    "#### ALTER TABLE MODIFY Column statement in SQL\n",
    "The MODIFY keyword is used for changing the column definition of the existing table.\n",
    "\n",
    "#### Syntax of ALTER TABLE MODIFY Column statement in SQL\n",
    "```\n",
    "ALTER TABLE table_name MODIFY column_name column-definition;  \n",
    "```\n",
    "This syntax only allows you to modify a single column of the existing table. If you want to modify more than one column of the table in a single SQL statement, then use the following syntax:\n",
    "\n",
    "```\n",
    "ALTER TABLE table_name     \n",
    "MODIFY (column_Name1 column-definition,    \n",
    "column_Name2 column-definition,    \n",
    ".....    \n",
    "column_NameN column-definition);    \n",
    "```"
   ]
  },
  {
   "cell_type": "markdown",
   "id": "1630b4d7",
   "metadata": {},
   "source": [
    "#### ALTER TABLE DROP Column statement in SQL\n",
    "In many situations, you may require to delete the columns from the existing table. Instead of deleting the whole table or database you can use DROP keyword for deleting the columns.\n",
    "\n",
    "#### Syntax of ALTER TABLE DROP Column statement in SQL\n",
    "```\n",
    "ALTER TABLE table_name DROP Column column_name ;  \n",
    "```"
   ]
  },
  {
   "cell_type": "markdown",
   "id": "265ae914",
   "metadata": {},
   "source": [
    "#### ALTER TABLE RENAME Column statement in SQL\n",
    "The RENAME keyword is used for changing the name of columns or fields of the existing table.\n",
    "\n",
    "#### Syntax of ALTER TABLE RENAME Column statement in SQL\n",
    "```\n",
    "ALTER TABLE table_name RENAME COLUMN old_name to new_name;   \n",
    "```"
   ]
  },
  {
   "cell_type": "markdown",
   "id": "961d83c5",
   "metadata": {},
   "source": [
    "# SQL SELECT Statement\n",
    "The SELECT statement is the most commonly used command in Structured Query Language. It is used to access the records from one or more database tables and views. It also retrieves the selected data that follow the conditions we want."
   ]
  },
  {
   "cell_type": "code",
   "execution_count": null,
   "id": "3db336f7",
   "metadata": {},
   "outputs": [],
   "source": []
  },
  {
   "cell_type": "code",
   "execution_count": null,
   "id": "718cf7c5",
   "metadata": {},
   "outputs": [],
   "source": []
  },
  {
   "cell_type": "code",
   "execution_count": null,
   "id": "bb440605",
   "metadata": {},
   "outputs": [],
   "source": []
  },
  {
   "cell_type": "code",
   "execution_count": 12,
   "id": "088d71a1",
   "metadata": {
    "scrolled": true
   },
   "outputs": [
    {
     "name": "stdout",
     "output_type": "stream",
     "text": [
      " dbms-sql-command.png\r\n",
      " Difference-Between-SQL-and-MySQL-Comparison-Summary.jpg\r\n",
      "'Introduction to SQL.ipynb'\r\n",
      " README.md\r\n",
      "'relational theory.png'\r\n",
      "'SQL interview Questions and Answers.ipynb'\r\n",
      " types-of-databases4.png\r\n",
      " types-of-databases.png\r\n",
      " what-is-rdbms.png\r\n",
      " world-university-rankings-202223\r\n"
     ]
    }
   ],
   "source": [
    "!ls"
   ]
  },
  {
   "cell_type": "code",
   "execution_count": null,
   "id": "3fcda735",
   "metadata": {},
   "outputs": [],
   "source": []
  },
  {
   "cell_type": "code",
   "execution_count": 5,
   "id": "d280be7e",
   "metadata": {},
   "outputs": [
    {
     "name": "stdout",
     "output_type": "stream",
     "text": [
      "1 record inserted!\n"
     ]
    }
   ],
   "source": [
    "import mysql.connector\n",
    "\n",
    "mydb = mysql.connector.connect(\n",
    "  host=\"localhost\",\n",
    "  user=\"root\",\n",
    "  password=\"Pucit12345#\",\n",
    "  database=\"ehtisham\",\n",
    "  auth_plugin='mysql_native_password'\n",
    ")\n",
    "cur = mydb.cursor()  \n",
    "sql = \"insert into STUDENTS(ID, NAME, AGE, ADDRESS) values (%s, %s, %s, %s)\"  \n",
    "  \n",
    "#The row values are provided in the form of tuple   \n",
    "val = (110,'Ahmed', 20 , \"Lahore\")  \n",
    "  \n",
    "try:  \n",
    "    cur.execute(sql,val)  \n",
    "    mydb.commit()\n",
    "except:  \n",
    "    mydb.rollback()  \n",
    "print(cur.rowcount,\"record inserted!\")  \n",
    "mydb.close()   "
   ]
  },
  {
   "cell_type": "code",
   "execution_count": 8,
   "id": "604ec4d9",
   "metadata": {},
   "outputs": [
    {
     "name": "stdout",
     "output_type": "stream",
     "text": [
      "(110, 'Ahmed', 20, 'Lahore')\n",
      "(501, 'Aleema ', 21, 'Lahore')\n",
      "(502, 'Azka', 21, 'Rawalpandi')\n",
      "(521, 'Ehtisham', 21, 'Okara')\n"
     ]
    }
   ],
   "source": [
    "import mysql.connector\n",
    "\n",
    "mydb = mysql.connector.connect(\n",
    "  host=\"localhost\",\n",
    "  user=\"root\",\n",
    "  password=\"Pucit12345#\",\n",
    "  database=\"ehtisham\",\n",
    "  auth_plugin='mysql_native_password'\n",
    ")\n",
    "cur = mydb.cursor()  \n",
    "try:  \n",
    "    #Reading the Employee data      \n",
    "    cur.execute(\"select * from STUDENTS\")  \n",
    "  \n",
    "    #fetching the rows from the cursor object  \n",
    "    result = cur.fetchall()  \n",
    "    #printing the result  \n",
    "      \n",
    "    for x in result:  \n",
    "        print(x);  \n",
    "except:  \n",
    "    mydb.rollback()  \n",
    "mydb.close()  "
   ]
  },
  {
   "cell_type": "code",
   "execution_count": null,
   "id": "41171607",
   "metadata": {},
   "outputs": [],
   "source": []
  },
  {
   "cell_type": "code",
   "execution_count": null,
   "id": "f6294867",
   "metadata": {},
   "outputs": [],
   "source": []
  }
 ],
 "metadata": {
  "kernelspec": {
   "display_name": "Python 3 (ipykernel)",
   "language": "python",
   "name": "python3"
  },
  "language_info": {
   "codemirror_mode": {
    "name": "ipython",
    "version": 3
   },
   "file_extension": ".py",
   "mimetype": "text/x-python",
   "name": "python",
   "nbconvert_exporter": "python",
   "pygments_lexer": "ipython3",
   "version": "3.8.10"
  }
 },
 "nbformat": 4,
 "nbformat_minor": 5
}
