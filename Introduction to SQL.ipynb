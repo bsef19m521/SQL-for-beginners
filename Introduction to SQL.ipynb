{
 "cells": [
  {
   "cell_type": "markdown",
   "id": "95f0a587",
   "metadata": {},
   "source": [
    "---   \n",
    "\n",
    "<h1 align=\"center\">Introduction to Data Analyst and Data Science for beginners</h1>\n",
    "<h1 align=\"center\">Introduction to DBMS and SQL for beginners</h1>\n",
    "\n",
    "---\n",
    "<h3><div align=\"right\">Ehtisham Sadiq</div></h3>    "
   ]
  },
  {
   "cell_type": "markdown",
   "id": "bdba0667",
   "metadata": {},
   "source": [
    "# Learning Agenda of this Notebook:\n",
    "- What is Data?\n",
    "- What is Database?\n",
    "- Famous types of Databases\n",
    "- What is RDBMS?\n",
    "- DBMS vs RDBMS?\n",
    "- What is SQL?\n",
    "- SQL vs MySQL\n",
    "- Why SQL?\n",
    "- Process of SQL?\n",
    "- Types of SQL Commands?\n",
    " >- DDL\n",
    " >- DML\n",
    " >- DCL\n",
    " >- TCL\n",
    " >- DQL\n",
    "- Difference between SQL AND NoSQL\n",
    "- Advantages and Dis-advantages of SQL\n",
    "- What is SQL Syntax?\n",
    "- Datatypes in SQL\n",
    "- SQL Operators\n",
    "- What is SQL Statement?\n",
    "- SQL Database Commands\n",
    " >- SQL CREATE Database\n",
    " >- SQL DROP Database\n",
    " >- SQL RENAME Database\n",
    " >- SQL SELECT Database\n",
    " \n",
    "- SQL Table Commands\n",
    " >- What is Table\n",
    " >- SQL CREATE TABLE\n",
    " >- SQL DROP TABLE\n",
    " >- SQL DELETE TABLE\n",
    " >- SQL RENAME TABLE\n",
    " >- SQL TRUNCATE TABLE\n",
    " >- SQL COPY TABLE\n",
    " >- SQL TEMP TABLE\n",
    " >- SQL ALTER TABLE\n",
    " \n",
    "- SQL SELECT Commands\n",
    " >- SELECT Statement\n",
    " >- SQL SELECT UNIQUE\n",
    " >- SQL SELECT DISTINCT\n",
    " >- SQL SELECT COUNT\n",
    " >- SQL SELECT TOP\n",
    " >- SQL SELECT FIRST\n",
    " >- SQL SELECT LAST\n",
    " >- SQL SELECT RANDOM\n",
    " >- SQL SELECT IN\n",
    " >- SQL SELECT Multiple\n",
    " >- SQL SELECT DATE\n",
    " >- SQL SELECT SUM\n",
    " >- SQL SELECT NULL\n",
    "\n",
    "- SQL Clause\n",
    ">- SQL WHERE\n",
    ">- SQL AND\n",
    ">- SQL OR\n",
    ">- SQL WITH\n",
    ">- SQL AS\n",
    ">- SQL HAVING Clause\n",
    "\n",
    "- SQL Order By\n",
    ">- ORDER BY Clause\n",
    ">- ORDER BY ASC\n",
    ">- ORDER BY DESC\n",
    ">- ORDER BY RANDOM\n",
    ">- ORDER BY LIMIT\n",
    ">- ORDER BY Multiple Cols\n",
    "\n",
    "- SQL Insert commands\n",
    ">- INSERT Statement\n",
    ">- INSERT INTO Values\n",
    ">- INSERT INTO SELECT\n",
    ">- INSERT Multiple Rows\n",
    "\n",
    "- SQL Update\n",
    ">- UPDATE Statement\n",
    ">- SQL UPDATE JOIN\n",
    ">- SQL UPDATE DATE\n",
    "\n",
    "- SQL Delete\n",
    ">- DELETE Statement\n",
    ">- SQL DELETE TABLE\n",
    ">- SQL DELETE ROW\n",
    ">- SQL DELETE All Rows\n",
    ">- DELETE Duplicate Rows\n",
    ">- SQL DELETE DATABASE\n",
    ">- SQL DELETE VIEW\n",
    ">- SQL DELETE JOIN\n",
    "\n",
    "- SQL Join commands\n",
    ">- SQL JOIN\n",
    ">- SQL Outer Join\n",
    ">- SQL Left Join\n",
    ">- SQL Right Join\n",
    ">- SQL Full Join\n",
    ">- SQL Cross Join\n",
    "\n",
    "- SQL Keys\n",
    ">- Primary Key\n",
    ">- Foreign Key\n",
    ">- Composite Key\n",
    ">- Unique Key\n",
    ">- Alternate Key\n",
    "\n",
    "- SQL Data Types\n",
    " >- String Data types\n",
    " >- Numeric Data types\n",
    " >- Date and time Data types\n",
    "- SQL Operators\n",
    " >- What is SQL Operator?\n",
    " >- What is the Precedence of SQL Operator?\n",
    " >- Types of Operator\n",
    "  - SQL Arithmetic Operators\n",
    "  >- SQL Comparison Operators\n",
    "  >- SQL Logical Operators\n",
    "  >- SQL Set Operators\n",
    "  >- SQL Bit-wise Operators\n",
    "  >- SQL Unary Operators\n",
    "  \n",
    "- Difference\n",
    ">- IN vs EXISTS\n",
    ">- Group By vs Order By\n",
    ">- WHERE vs HAVING\n",
    ">- Where condition in SQL\n",
    "\n",
    "- Interview Questions Answers\n",
    "- Case Studies\n",
    "- Python MySQL\n",
    " >- Environment Setup\n",
    " >- Database Connection\n",
    " >- Creating New Database\n",
    " >- Creating Tables\n",
    " >- Insert Operation\n",
    " >- Read Operation\n",
    " >- Update Operation\n",
    " >- Join Operation\n",
    " >- Performing Transactions\n"
   ]
  },
  {
   "cell_type": "markdown",
   "id": "2c4c6b73",
   "metadata": {},
   "source": [
    "# What is Data?\n",
    "- Data is a collection of a distinct small unit of information. It can be used in a variety of forms like text, numbers, media, bytes, etc. it can be stored in pieces of paper or electronic memory, etc.\n",
    "- In computing, Data is information that can be translated into a form for efficient movement and processing. Data is interchangeable."
   ]
  },
  {
   "cell_type": "markdown",
   "id": "1c5eb991",
   "metadata": {},
   "source": [
    "# What is Database?\n",
    "- A database is an organized collection of data, so that it can be easily accessed and managed.\n",
    "- You can organize data into tables, rows, columns, and index it to make it easier to find relevant information.\n",
    "- Database handlers create a database in such a way that only one set of software program provides access of data to all the users.\n",
    "- The main purpose of the database is to operate a large amount of information by storing, retrieving, and managing data.\n",
    "- There are many dynamic websites on the World Wide Web nowadays which are handled through databases. For example, a model that checks the availability of rooms in a hotel. It is an example of a dynamic website that uses a database.\n",
    "- There are many databases available like MySQL, Sybase, Oracle, MongoDB, Informix, PostgreSQL, SQL Server, etc.\n",
    "- Modern databases are managed by the database management system (DBMS).\n",
    "- SQL or Structured Query Language is used to operate on the data stored in a database. SQL depends on relational algebra and tuple relational calculus."
   ]
  },
  {
   "cell_type": "markdown",
   "id": "6f6718d6",
   "metadata": {},
   "source": [
    "# Types of Databases:\n",
    "There are various types of databases used for storing different varieties of data.\n",
    "![](types-of-databases.png)"
   ]
  },
  {
   "cell_type": "markdown",
   "id": "3e4456c2",
   "metadata": {},
   "source": [
    "### Centralized Database\n",
    "- It is the type of database that stores data at a centralized database system. It comforts the users to access the stored data from different locations through several applications. These applications contain the authentication process to let users access data securely. \n",
    "- An example of a Centralized database can be Central Library that carries a central database of each library in a college/university."
   ]
  },
  {
   "cell_type": "markdown",
   "id": "786debcb",
   "metadata": {},
   "source": [
    "### Distributed Database\n",
    "- Unlike a centralized database system, in distributed systems, data is distributed among different database systems of an organization. These database systems are connected via communication links. Such links help the end-users to access the data easily. \n",
    "- Examples of the Distributed database are Apache Cassandra, HBase, Ignite, etc."
   ]
  },
  {
   "cell_type": "markdown",
   "id": "91216ea8",
   "metadata": {},
   "source": [
    "### Relational Database\n",
    "- This database is based on the relational data model, which stores data in the form of rows(tuple) and columns(attributes), and together forms a table(relation). A relational database uses SQL for storing, manipulating, as well as maintaining the data. E.F. Codd invented the database in 1970. Each table in the database carries a key that makes the data unique from others. \n",
    "- Examples of Relational databases are MySQL, Microsoft SQL Server, Oracle, etc.\n",
    "<img src=\"relational theory.png\">"
   ]
  },
  {
   "cell_type": "code",
   "execution_count": null,
   "id": "4a725a2d",
   "metadata": {},
   "outputs": [],
   "source": []
  },
  {
   "cell_type": "code",
   "execution_count": null,
   "id": "fc95a0ab",
   "metadata": {},
   "outputs": [],
   "source": []
  },
  {
   "cell_type": "code",
   "execution_count": null,
   "id": "ec570bb2",
   "metadata": {},
   "outputs": [],
   "source": []
  },
  {
   "cell_type": "code",
   "execution_count": null,
   "id": "78f94164",
   "metadata": {},
   "outputs": [],
   "source": []
  },
  {
   "cell_type": "code",
   "execution_count": null,
   "id": "1f933b9a",
   "metadata": {},
   "outputs": [],
   "source": []
  },
  {
   "cell_type": "code",
   "execution_count": null,
   "id": "ae630238",
   "metadata": {},
   "outputs": [],
   "source": []
  },
  {
   "cell_type": "code",
   "execution_count": null,
   "id": "1d6fadba",
   "metadata": {},
   "outputs": [],
   "source": []
  },
  {
   "cell_type": "code",
   "execution_count": null,
   "id": "dbb0631f",
   "metadata": {},
   "outputs": [],
   "source": []
  },
  {
   "cell_type": "code",
   "execution_count": null,
   "id": "79c09f7e",
   "metadata": {},
   "outputs": [],
   "source": []
  },
  {
   "cell_type": "code",
   "execution_count": null,
   "id": "088d71a1",
   "metadata": {},
   "outputs": [],
   "source": []
  },
  {
   "cell_type": "code",
   "execution_count": null,
   "id": "42fb8bd0",
   "metadata": {},
   "outputs": [],
   "source": []
  },
  {
   "cell_type": "code",
   "execution_count": 5,
   "id": "d280be7e",
   "metadata": {},
   "outputs": [
    {
     "name": "stdout",
     "output_type": "stream",
     "text": [
      "1 record inserted!\n"
     ]
    }
   ],
   "source": [
    "import mysql.connector\n",
    "\n",
    "mydb = mysql.connector.connect(\n",
    "  host=\"localhost\",\n",
    "  user=\"root\",\n",
    "  password=\"Pucit12345#\",\n",
    "  database=\"ehtisham\",\n",
    "  auth_plugin='mysql_native_password'\n",
    ")\n",
    "cur = mydb.cursor()  \n",
    "sql = \"insert into STUDENTS(ID, NAME, AGE, ADDRESS) values (%s, %s, %s, %s)\"  \n",
    "  \n",
    "#The row values are provided in the form of tuple   \n",
    "val = (110,'Ahmed', 20 , \"Lahore\")  \n",
    "  \n",
    "try:  \n",
    "    cur.execute(sql,val)  \n",
    "    mydb.commit()\n",
    "except:  \n",
    "    mydb.rollback()  \n",
    "print(cur.rowcount,\"record inserted!\")  \n",
    "mydb.close()   "
   ]
  },
  {
   "cell_type": "code",
   "execution_count": 8,
   "id": "604ec4d9",
   "metadata": {},
   "outputs": [
    {
     "name": "stdout",
     "output_type": "stream",
     "text": [
      "(110, 'Ahmed', 20, 'Lahore')\n",
      "(501, 'Aleema ', 21, 'Lahore')\n",
      "(502, 'Azka', 21, 'Rawalpandi')\n",
      "(521, 'Ehtisham', 21, 'Okara')\n"
     ]
    }
   ],
   "source": [
    "import mysql.connector\n",
    "\n",
    "mydb = mysql.connector.connect(\n",
    "  host=\"localhost\",\n",
    "  user=\"root\",\n",
    "  password=\"Pucit12345#\",\n",
    "  database=\"ehtisham\",\n",
    "  auth_plugin='mysql_native_password'\n",
    ")\n",
    "cur = mydb.cursor()  \n",
    "try:  \n",
    "    #Reading the Employee data      \n",
    "    cur.execute(\"select * from STUDENTS\")  \n",
    "  \n",
    "    #fetching the rows from the cursor object  \n",
    "    result = cur.fetchall()  \n",
    "    #printing the result  \n",
    "      \n",
    "    for x in result:  \n",
    "        print(x);  \n",
    "except:  \n",
    "    mydb.rollback()  \n",
    "mydb.close()  "
   ]
  },
  {
   "cell_type": "code",
   "execution_count": null,
   "id": "41171607",
   "metadata": {},
   "outputs": [],
   "source": []
  }
 ],
 "metadata": {
  "kernelspec": {
   "display_name": "Python 3 (ipykernel)",
   "language": "python",
   "name": "python3"
  },
  "language_info": {
   "codemirror_mode": {
    "name": "ipython",
    "version": 3
   },
   "file_extension": ".py",
   "mimetype": "text/x-python",
   "name": "python",
   "nbconvert_exporter": "python",
   "pygments_lexer": "ipython3",
   "version": "3.8.10"
  }
 },
 "nbformat": 4,
 "nbformat_minor": 5
}
