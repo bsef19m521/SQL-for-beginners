version https://git-lfs.github.com/spec/v1
oid sha256:fa3f2919a2c5ac35516b8b0afae9247d9d3d22e4a9f9fa4c666c102982f28b80
size 81198
