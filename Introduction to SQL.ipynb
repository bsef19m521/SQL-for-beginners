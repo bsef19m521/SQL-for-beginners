version https://git-lfs.github.com/spec/v1
oid sha256:f8c0e0c968a6737930af743e18604caf41fb5d2d6b6cc3d430c7821a09533dfc
size 107632
