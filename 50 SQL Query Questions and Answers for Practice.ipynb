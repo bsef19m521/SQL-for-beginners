version https://git-lfs.github.com/spec/v1
oid sha256:cc5805732b662fe8197eea6afaba03cf8b320a26a9ef6f09296c8f2787faa9aa
size 18065
