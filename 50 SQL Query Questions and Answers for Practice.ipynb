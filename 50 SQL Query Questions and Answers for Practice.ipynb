version https://git-lfs.github.com/spec/v1
oid sha256:a66b9319fb0be8a8807af5f6e58eccfd85247d2908d5218bd079fa9572f54f5a
size 1492
