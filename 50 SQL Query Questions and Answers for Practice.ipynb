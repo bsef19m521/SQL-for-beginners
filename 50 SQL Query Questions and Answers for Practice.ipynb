version https://git-lfs.github.com/spec/v1
oid sha256:b34f4b12af02e327930763dc287e0cf2a987a0e81263ff0025e8861dff0104a0
size 8138
